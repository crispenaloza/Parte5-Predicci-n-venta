{
 "cells": [
  {
   "cell_type": "markdown",
   "id": "practical-stewart",
   "metadata": {},
   "source": [
    "## El siguiente cuarderno contempla el proyecto de predicción de ventas del proyecto del bootcamp de unilever"
   ]
  },
  {
   "cell_type": "markdown",
   "id": "direct-toilet",
   "metadata": {},
   "source": [
    "## Descripción de cada columnas\n",
    "\n",
    "* **Item_Identifier:**: ID unico del producto\n",
    "* **Item_Weight:** Peso del productp\n",
    "* **Item_Fat_Content:** Si el producto es bajo en grasa o no\n",
    "* **Item_Visibility:** Porcentaje del area de exhibición total de todos los produtos\n",
    "* **Item_Type:** Categoria del producto\n",
    "* **Item_MRP:** Precio de venta maximo del producto\n",
    "* **Outlet_Identifier:** ID tienda unico\n",
    "* **Outlet_Establishment_Year:** Año de la tienda\n",
    "* **Outlet_Size:** Tamaño de la tienda\n",
    "* **Outlet_Location_Type:** Tipo de ciudad en la que se encuentra\n",
    "* **Outlet_Type:** Dos variable, type 1 es solo comestible y type 2 es algun tipo de supermercado\n",
    "* **Item_Outlet_Sales:** Ventas del producto\n"
   ]
  },
  {
   "cell_type": "markdown",
   "id": "considerable-southwest",
   "metadata": {},
   "source": [
    "## Importación de libreria"
   ]
  },
  {
   "cell_type": "code",
   "execution_count": 754,
   "id": "artificial-physics",
   "metadata": {},
   "outputs": [
    {
     "name": "stdout",
     "output_type": "stream",
     "text": [
      "Pandas 1.3.4\n",
      "Numpy 1.20.3\n",
      "sbn 0.11.2\n",
      "Python 3.9.7 \n"
     ]
    }
   ],
   "source": [
    "import pandas as pd\n",
    "import matplotlib.pyplot as plt\n",
    "import numpy as np\n",
    "import seaborn as sbn\n",
    "import sys\n",
    "\n",
    "print (\"Pandas\", pd.__version__)\n",
    "print (\"Numpy\", np.__version__)\n",
    "print (\"sbn\", sbn.__version__)\n",
    "print (\"Python\", sys.version[:6])"
   ]
  },
  {
   "cell_type": "markdown",
   "id": "square-undergraduate",
   "metadata": {},
   "source": [
    "## Carga de la data"
   ]
  },
  {
   "cell_type": "code",
   "execution_count": 755,
   "id": "persistent-professor",
   "metadata": {
    "scrolled": true
   },
   "outputs": [
    {
     "name": "stdout",
     "output_type": "stream",
     "text": [
      "El archivo tiene 8523 filas, y  12 columnas\n"
     ]
    },
    {
     "data": {
      "text/html": [
       "<div>\n",
       "<style scoped>\n",
       "    .dataframe tbody tr th:only-of-type {\n",
       "        vertical-align: middle;\n",
       "    }\n",
       "\n",
       "    .dataframe tbody tr th {\n",
       "        vertical-align: top;\n",
       "    }\n",
       "\n",
       "    .dataframe thead th {\n",
       "        text-align: right;\n",
       "    }\n",
       "</style>\n",
       "<table border=\"1\" class=\"dataframe\">\n",
       "  <thead>\n",
       "    <tr style=\"text-align: right;\">\n",
       "      <th></th>\n",
       "      <th>Item_Identifier</th>\n",
       "      <th>Item_Weight</th>\n",
       "      <th>Item_Fat_Content</th>\n",
       "      <th>Item_Visibility</th>\n",
       "      <th>Item_Type</th>\n",
       "      <th>Item_MRP</th>\n",
       "      <th>Outlet_Identifier</th>\n",
       "      <th>Outlet_Establishment_Year</th>\n",
       "      <th>Outlet_Size</th>\n",
       "      <th>Outlet_Location_Type</th>\n",
       "      <th>Outlet_Type</th>\n",
       "      <th>Item_Outlet_Sales</th>\n",
       "    </tr>\n",
       "  </thead>\n",
       "  <tbody>\n",
       "    <tr>\n",
       "      <th>0</th>\n",
       "      <td>FDA15</td>\n",
       "      <td>9.30</td>\n",
       "      <td>Low Fat</td>\n",
       "      <td>0.016047</td>\n",
       "      <td>Dairy</td>\n",
       "      <td>249.8092</td>\n",
       "      <td>OUT049</td>\n",
       "      <td>1999</td>\n",
       "      <td>Medium</td>\n",
       "      <td>Tier 1</td>\n",
       "      <td>Supermarket Type1</td>\n",
       "      <td>3735.1380</td>\n",
       "    </tr>\n",
       "    <tr>\n",
       "      <th>1</th>\n",
       "      <td>DRC01</td>\n",
       "      <td>5.92</td>\n",
       "      <td>Regular</td>\n",
       "      <td>0.019278</td>\n",
       "      <td>Soft Drinks</td>\n",
       "      <td>48.2692</td>\n",
       "      <td>OUT018</td>\n",
       "      <td>2009</td>\n",
       "      <td>Medium</td>\n",
       "      <td>Tier 3</td>\n",
       "      <td>Supermarket Type2</td>\n",
       "      <td>443.4228</td>\n",
       "    </tr>\n",
       "    <tr>\n",
       "      <th>2</th>\n",
       "      <td>FDN15</td>\n",
       "      <td>17.50</td>\n",
       "      <td>Low Fat</td>\n",
       "      <td>0.016760</td>\n",
       "      <td>Meat</td>\n",
       "      <td>141.6180</td>\n",
       "      <td>OUT049</td>\n",
       "      <td>1999</td>\n",
       "      <td>Medium</td>\n",
       "      <td>Tier 1</td>\n",
       "      <td>Supermarket Type1</td>\n",
       "      <td>2097.2700</td>\n",
       "    </tr>\n",
       "    <tr>\n",
       "      <th>3</th>\n",
       "      <td>FDX07</td>\n",
       "      <td>19.20</td>\n",
       "      <td>Regular</td>\n",
       "      <td>0.000000</td>\n",
       "      <td>Fruits and Vegetables</td>\n",
       "      <td>182.0950</td>\n",
       "      <td>OUT010</td>\n",
       "      <td>1998</td>\n",
       "      <td>NaN</td>\n",
       "      <td>Tier 3</td>\n",
       "      <td>Grocery Store</td>\n",
       "      <td>732.3800</td>\n",
       "    </tr>\n",
       "    <tr>\n",
       "      <th>4</th>\n",
       "      <td>NCD19</td>\n",
       "      <td>8.93</td>\n",
       "      <td>Low Fat</td>\n",
       "      <td>0.000000</td>\n",
       "      <td>Household</td>\n",
       "      <td>53.8614</td>\n",
       "      <td>OUT013</td>\n",
       "      <td>1987</td>\n",
       "      <td>High</td>\n",
       "      <td>Tier 3</td>\n",
       "      <td>Supermarket Type1</td>\n",
       "      <td>994.7052</td>\n",
       "    </tr>\n",
       "  </tbody>\n",
       "</table>\n",
       "</div>"
      ],
      "text/plain": [
       "  Item_Identifier  Item_Weight Item_Fat_Content  Item_Visibility  \\\n",
       "0           FDA15         9.30          Low Fat         0.016047   \n",
       "1           DRC01         5.92          Regular         0.019278   \n",
       "2           FDN15        17.50          Low Fat         0.016760   \n",
       "3           FDX07        19.20          Regular         0.000000   \n",
       "4           NCD19         8.93          Low Fat         0.000000   \n",
       "\n",
       "               Item_Type  Item_MRP Outlet_Identifier  \\\n",
       "0                  Dairy  249.8092            OUT049   \n",
       "1            Soft Drinks   48.2692            OUT018   \n",
       "2                   Meat  141.6180            OUT049   \n",
       "3  Fruits and Vegetables  182.0950            OUT010   \n",
       "4              Household   53.8614            OUT013   \n",
       "\n",
       "   Outlet_Establishment_Year Outlet_Size Outlet_Location_Type  \\\n",
       "0                       1999      Medium               Tier 1   \n",
       "1                       2009      Medium               Tier 3   \n",
       "2                       1999      Medium               Tier 1   \n",
       "3                       1998         NaN               Tier 3   \n",
       "4                       1987        High               Tier 3   \n",
       "\n",
       "         Outlet_Type  Item_Outlet_Sales  \n",
       "0  Supermarket Type1          3735.1380  \n",
       "1  Supermarket Type2           443.4228  \n",
       "2  Supermarket Type1          2097.2700  \n",
       "3      Grocery Store           732.3800  \n",
       "4  Supermarket Type1           994.7052  "
      ]
     },
     "execution_count": 755,
     "metadata": {},
     "output_type": "execute_result"
    }
   ],
   "source": [
    "df=pd.read_csv(\"C:/Users/crist/Python_jupiter/Bootcamp_python//Semana_2/sales_predictions.csv\")\n",
    "print (\"El archivo tiene\",df.shape[0],\"filas, y \",df.shape[1],\"columnas\")\n",
    "df2=df ## Copia del archivo\n",
    "df.head(5)"
   ]
  },
  {
   "cell_type": "markdown",
   "id": "equivalent-astronomy",
   "metadata": {},
   "source": [
    "# Parte 1: Pre- tratamiento de los datos"
   ]
  },
  {
   "cell_type": "markdown",
   "id": "swiss-affairs",
   "metadata": {},
   "source": [
    "## 1.1 Información de las columnas"
   ]
  },
  {
   "cell_type": "code",
   "execution_count": 756,
   "id": "magnetic-referral",
   "metadata": {},
   "outputs": [
    {
     "name": "stdout",
     "output_type": "stream",
     "text": [
      "<class 'pandas.core.frame.DataFrame'>\n",
      "RangeIndex: 8523 entries, 0 to 8522\n",
      "Data columns (total 12 columns):\n",
      " #   Column                     Non-Null Count  Dtype  \n",
      "---  ------                     --------------  -----  \n",
      " 0   Item_Identifier            8523 non-null   object \n",
      " 1   Item_Weight                7060 non-null   float64\n",
      " 2   Item_Fat_Content           8523 non-null   object \n",
      " 3   Item_Visibility            8523 non-null   float64\n",
      " 4   Item_Type                  8523 non-null   object \n",
      " 5   Item_MRP                   8523 non-null   float64\n",
      " 6   Outlet_Identifier          8523 non-null   object \n",
      " 7   Outlet_Establishment_Year  8523 non-null   int64  \n",
      " 8   Outlet_Size                6113 non-null   object \n",
      " 9   Outlet_Location_Type       8523 non-null   object \n",
      " 10  Outlet_Type                8523 non-null   object \n",
      " 11  Item_Outlet_Sales          8523 non-null   float64\n",
      "dtypes: float64(4), int64(1), object(7)\n",
      "memory usage: 799.2+ KB\n"
     ]
    }
   ],
   "source": [
    "df.info()"
   ]
  },
  {
   "cell_type": "markdown",
   "id": "historical-central",
   "metadata": {},
   "source": [
    "## 1.2 Descripción de las variables numericas"
   ]
  },
  {
   "cell_type": "code",
   "execution_count": 757,
   "id": "confirmed-perth",
   "metadata": {},
   "outputs": [
    {
     "data": {
      "text/html": [
       "<div>\n",
       "<style scoped>\n",
       "    .dataframe tbody tr th:only-of-type {\n",
       "        vertical-align: middle;\n",
       "    }\n",
       "\n",
       "    .dataframe tbody tr th {\n",
       "        vertical-align: top;\n",
       "    }\n",
       "\n",
       "    .dataframe thead th {\n",
       "        text-align: right;\n",
       "    }\n",
       "</style>\n",
       "<table border=\"1\" class=\"dataframe\">\n",
       "  <thead>\n",
       "    <tr style=\"text-align: right;\">\n",
       "      <th></th>\n",
       "      <th>Item_Weight</th>\n",
       "      <th>Item_Visibility</th>\n",
       "      <th>Item_MRP</th>\n",
       "      <th>Outlet_Establishment_Year</th>\n",
       "      <th>Item_Outlet_Sales</th>\n",
       "    </tr>\n",
       "  </thead>\n",
       "  <tbody>\n",
       "    <tr>\n",
       "      <th>count</th>\n",
       "      <td>7060.000000</td>\n",
       "      <td>8523.000000</td>\n",
       "      <td>8523.000000</td>\n",
       "      <td>8523.000000</td>\n",
       "      <td>8523.000000</td>\n",
       "    </tr>\n",
       "    <tr>\n",
       "      <th>mean</th>\n",
       "      <td>12.857645</td>\n",
       "      <td>0.066132</td>\n",
       "      <td>140.992782</td>\n",
       "      <td>1997.831867</td>\n",
       "      <td>2181.288914</td>\n",
       "    </tr>\n",
       "    <tr>\n",
       "      <th>std</th>\n",
       "      <td>4.643456</td>\n",
       "      <td>0.051598</td>\n",
       "      <td>62.275067</td>\n",
       "      <td>8.371760</td>\n",
       "      <td>1706.499616</td>\n",
       "    </tr>\n",
       "    <tr>\n",
       "      <th>min</th>\n",
       "      <td>4.555000</td>\n",
       "      <td>0.000000</td>\n",
       "      <td>31.290000</td>\n",
       "      <td>1985.000000</td>\n",
       "      <td>33.290000</td>\n",
       "    </tr>\n",
       "    <tr>\n",
       "      <th>25%</th>\n",
       "      <td>8.773750</td>\n",
       "      <td>0.026989</td>\n",
       "      <td>93.826500</td>\n",
       "      <td>1987.000000</td>\n",
       "      <td>834.247400</td>\n",
       "    </tr>\n",
       "    <tr>\n",
       "      <th>50%</th>\n",
       "      <td>12.600000</td>\n",
       "      <td>0.053931</td>\n",
       "      <td>143.012800</td>\n",
       "      <td>1999.000000</td>\n",
       "      <td>1794.331000</td>\n",
       "    </tr>\n",
       "    <tr>\n",
       "      <th>75%</th>\n",
       "      <td>16.850000</td>\n",
       "      <td>0.094585</td>\n",
       "      <td>185.643700</td>\n",
       "      <td>2004.000000</td>\n",
       "      <td>3101.296400</td>\n",
       "    </tr>\n",
       "    <tr>\n",
       "      <th>max</th>\n",
       "      <td>21.350000</td>\n",
       "      <td>0.328391</td>\n",
       "      <td>266.888400</td>\n",
       "      <td>2009.000000</td>\n",
       "      <td>13086.964800</td>\n",
       "    </tr>\n",
       "  </tbody>\n",
       "</table>\n",
       "</div>"
      ],
      "text/plain": [
       "       Item_Weight  Item_Visibility     Item_MRP  Outlet_Establishment_Year  \\\n",
       "count  7060.000000      8523.000000  8523.000000                8523.000000   \n",
       "mean     12.857645         0.066132   140.992782                1997.831867   \n",
       "std       4.643456         0.051598    62.275067                   8.371760   \n",
       "min       4.555000         0.000000    31.290000                1985.000000   \n",
       "25%       8.773750         0.026989    93.826500                1987.000000   \n",
       "50%      12.600000         0.053931   143.012800                1999.000000   \n",
       "75%      16.850000         0.094585   185.643700                2004.000000   \n",
       "max      21.350000         0.328391   266.888400                2009.000000   \n",
       "\n",
       "       Item_Outlet_Sales  \n",
       "count        8523.000000  \n",
       "mean         2181.288914  \n",
       "std          1706.499616  \n",
       "min            33.290000  \n",
       "25%           834.247400  \n",
       "50%          1794.331000  \n",
       "75%          3101.296400  \n",
       "max         13086.964800  "
      ]
     },
     "execution_count": 757,
     "metadata": {},
     "output_type": "execute_result"
    }
   ],
   "source": [
    "df.describe()"
   ]
  },
  {
   "cell_type": "code",
   "execution_count": 758,
   "id": "3e81d30c",
   "metadata": {},
   "outputs": [
    {
     "data": {
      "text/html": [
       "<div>\n",
       "<style scoped>\n",
       "    .dataframe tbody tr th:only-of-type {\n",
       "        vertical-align: middle;\n",
       "    }\n",
       "\n",
       "    .dataframe tbody tr th {\n",
       "        vertical-align: top;\n",
       "    }\n",
       "\n",
       "    .dataframe thead th {\n",
       "        text-align: right;\n",
       "    }\n",
       "</style>\n",
       "<table border=\"1\" class=\"dataframe\">\n",
       "  <thead>\n",
       "    <tr style=\"text-align: right;\">\n",
       "      <th></th>\n",
       "      <th>Item_Identifier</th>\n",
       "      <th>Item_Fat_Content</th>\n",
       "      <th>Item_Type</th>\n",
       "      <th>Outlet_Identifier</th>\n",
       "      <th>Outlet_Size</th>\n",
       "      <th>Outlet_Location_Type</th>\n",
       "      <th>Outlet_Type</th>\n",
       "    </tr>\n",
       "  </thead>\n",
       "  <tbody>\n",
       "    <tr>\n",
       "      <th>count</th>\n",
       "      <td>8523</td>\n",
       "      <td>8523</td>\n",
       "      <td>8523</td>\n",
       "      <td>8523</td>\n",
       "      <td>6113</td>\n",
       "      <td>8523</td>\n",
       "      <td>8523</td>\n",
       "    </tr>\n",
       "    <tr>\n",
       "      <th>unique</th>\n",
       "      <td>1559</td>\n",
       "      <td>5</td>\n",
       "      <td>16</td>\n",
       "      <td>10</td>\n",
       "      <td>3</td>\n",
       "      <td>3</td>\n",
       "      <td>4</td>\n",
       "    </tr>\n",
       "    <tr>\n",
       "      <th>top</th>\n",
       "      <td>FDW13</td>\n",
       "      <td>Low Fat</td>\n",
       "      <td>Fruits and Vegetables</td>\n",
       "      <td>OUT027</td>\n",
       "      <td>Medium</td>\n",
       "      <td>Tier 3</td>\n",
       "      <td>Supermarket Type1</td>\n",
       "    </tr>\n",
       "    <tr>\n",
       "      <th>freq</th>\n",
       "      <td>10</td>\n",
       "      <td>5089</td>\n",
       "      <td>1232</td>\n",
       "      <td>935</td>\n",
       "      <td>2793</td>\n",
       "      <td>3350</td>\n",
       "      <td>5577</td>\n",
       "    </tr>\n",
       "  </tbody>\n",
       "</table>\n",
       "</div>"
      ],
      "text/plain": [
       "       Item_Identifier Item_Fat_Content              Item_Type  \\\n",
       "count             8523             8523                   8523   \n",
       "unique            1559                5                     16   \n",
       "top              FDW13          Low Fat  Fruits and Vegetables   \n",
       "freq                10             5089                   1232   \n",
       "\n",
       "       Outlet_Identifier Outlet_Size Outlet_Location_Type        Outlet_Type  \n",
       "count               8523        6113                 8523               8523  \n",
       "unique                10           3                    3                  4  \n",
       "top               OUT027      Medium               Tier 3  Supermarket Type1  \n",
       "freq                 935        2793                 3350               5577  "
      ]
     },
     "execution_count": 758,
     "metadata": {},
     "output_type": "execute_result"
    }
   ],
   "source": [
    "df.describe(include=object)"
   ]
  },
  {
   "cell_type": "markdown",
   "id": "essential-catalog",
   "metadata": {},
   "source": [
    "## 1.3 Verificación de los valores nulos"
   ]
  },
  {
   "cell_type": "code",
   "execution_count": 759,
   "id": "religious-bench",
   "metadata": {},
   "outputs": [
    {
     "data": {
      "text/plain": [
       "Item_Identifier                 0\n",
       "Item_Weight                  1463\n",
       "Item_Fat_Content                0\n",
       "Item_Visibility                 0\n",
       "Item_Type                       0\n",
       "Item_MRP                        0\n",
       "Outlet_Identifier               0\n",
       "Outlet_Establishment_Year       0\n",
       "Outlet_Size                  2410\n",
       "Outlet_Location_Type            0\n",
       "Outlet_Type                     0\n",
       "Item_Outlet_Sales               0\n",
       "dtype: int64"
      ]
     },
     "execution_count": 759,
     "metadata": {},
     "output_type": "execute_result"
    }
   ],
   "source": [
    "df.isnull().sum()"
   ]
  },
  {
   "cell_type": "markdown",
   "id": "international-generic",
   "metadata": {},
   "source": [
    "### 1.3 Analizo el comportamiento de las variables con valores nulos"
   ]
  },
  {
   "cell_type": "code",
   "execution_count": 760,
   "id": "bacterial-wells",
   "metadata": {},
   "outputs": [
    {
     "data": {
      "image/png": "[encoded data removed]",
      "text/plain": [
       "<Figure size 432x288 with 1 Axes>"
      ]
     },
     "metadata": {
      "needs_background": "light"
     },
     "output_type": "display_data"
    }
   ],
   "source": [
    "df[\"Item_Weight\"].plot.hist();"
   ]
  },
  {
   "cell_type": "markdown",
   "id": "measured-pregnancy",
   "metadata": {},
   "source": [
    "## 1.5 Analizo la variable categorica con valores nulos "
   ]
  },
  {
   "cell_type": "code",
   "execution_count": 761,
   "id": "alert-designer",
   "metadata": {
    "scrolled": true
   },
   "outputs": [
    {
     "data": {
      "text/plain": [
       "Medium    2793\n",
       "Small     2388\n",
       "High       932\n",
       "Name: Outlet_Size, dtype: int64"
      ]
     },
     "execution_count": 761,
     "metadata": {},
     "output_type": "execute_result"
    }
   ],
   "source": [
    "df[\"Outlet_Size\"].value_counts()"
   ]
  },
  {
   "cell_type": "markdown",
   "id": "inappropriate-belief",
   "metadata": {},
   "source": [
    "## 1.6 Transformo de variable categorica a numerica"
   ]
  },
  {
   "cell_type": "code",
   "execution_count": 762,
   "id": "compact-asset",
   "metadata": {
    "scrolled": true
   },
   "outputs": [
    {
     "name": "stderr",
     "output_type": "stream",
     "text": [
      "C:\\Users\\crist\\AppData\\Local\\Temp/ipykernel_11412/781719540.py:2: SettingWithCopyWarning: \n",
      "A value is trying to be set on a copy of a slice from a DataFrame\n",
      "\n",
      "See the caveats in the documentation: https://pandas.pydata.org/pandas-docs/stable/user_guide/indexing.html#returning-a-view-versus-a-copy\n",
      "  df[\"Outlet_Size2\"][df[\"Outlet_Size\"]==\"Small\"]=1;\n",
      "C:\\Users\\crist\\AppData\\Local\\Temp/ipykernel_11412/781719540.py:3: SettingWithCopyWarning: \n",
      "A value is trying to be set on a copy of a slice from a DataFrame\n",
      "\n",
      "See the caveats in the documentation: https://pandas.pydata.org/pandas-docs/stable/user_guide/indexing.html#returning-a-view-versus-a-copy\n",
      "  df[\"Outlet_Size2\"][df[\"Outlet_Size\"]==\"Medium\"]=2;\n",
      "C:\\Users\\crist\\AppData\\Local\\Temp/ipykernel_11412/781719540.py:4: SettingWithCopyWarning: \n",
      "A value is trying to be set on a copy of a slice from a DataFrame\n",
      "\n",
      "See the caveats in the documentation: https://pandas.pydata.org/pandas-docs/stable/user_guide/indexing.html#returning-a-view-versus-a-copy\n",
      "  df[\"Outlet_Size2\"][df[\"Outlet_Size\"]==\"High\"]=3;\n"
     ]
    }
   ],
   "source": [
    "df[\"Outlet_Size2\"]=\"\"\n",
    "df[\"Outlet_Size2\"][df[\"Outlet_Size\"]==\"Small\"]=1;\n",
    "df[\"Outlet_Size2\"][df[\"Outlet_Size\"]==\"Medium\"]=2;\n",
    "df[\"Outlet_Size2\"][df[\"Outlet_Size\"]==\"High\"]=3;"
   ]
  },
  {
   "cell_type": "markdown",
   "id": "virtual-burning",
   "metadata": {},
   "source": [
    "### 1.7  Inspecciono si hay alguna relación con otra columnas y elimino los nulos\n",
    "\n",
    "**CONCLUSIÓN**  \n",
    "**No hay ninguna relación clara, a traves de correlación metodo pearson**"
   ]
  },
  {
   "cell_type": "code",
   "execution_count": 763,
   "id": "stopped-essay",
   "metadata": {
    "scrolled": true
   },
   "outputs": [
    {
     "name": "stderr",
     "output_type": "stream",
     "text": [
      "C:\\Users\\crist\\AppData\\Local\\Temp/ipykernel_11412/3585537563.py:2: SettingWithCopyWarning: \n",
      "A value is trying to be set on a copy of a slice from a DataFrame.\n",
      "Try using .loc[row_indexer,col_indexer] = value instead\n",
      "\n",
      "See the caveats in the documentation: https://pandas.pydata.org/pandas-docs/stable/user_guide/indexing.html#returning-a-view-versus-a-copy\n",
      "  df_sinnulos[\"Outlet_Size2\"]=df_sinnulos[\"Outlet_Size2\"].astype(int)\n"
     ]
    },
    {
     "data": {
      "text/html": [
       "<div>\n",
       "<style scoped>\n",
       "    .dataframe tbody tr th:only-of-type {\n",
       "        vertical-align: middle;\n",
       "    }\n",
       "\n",
       "    .dataframe tbody tr th {\n",
       "        vertical-align: top;\n",
       "    }\n",
       "\n",
       "    .dataframe thead th {\n",
       "        text-align: right;\n",
       "    }\n",
       "</style>\n",
       "<table border=\"1\" class=\"dataframe\">\n",
       "  <thead>\n",
       "    <tr style=\"text-align: right;\">\n",
       "      <th></th>\n",
       "      <th>Item_Weight</th>\n",
       "      <th>Item_Visibility</th>\n",
       "      <th>Item_MRP</th>\n",
       "      <th>Outlet_Establishment_Year</th>\n",
       "      <th>Item_Outlet_Sales</th>\n",
       "      <th>Outlet_Size2</th>\n",
       "    </tr>\n",
       "  </thead>\n",
       "  <tbody>\n",
       "    <tr>\n",
       "      <th>Item_Weight</th>\n",
       "      <td>1.000000</td>\n",
       "      <td>-0.010229</td>\n",
       "      <td>0.033330</td>\n",
       "      <td>-0.010596</td>\n",
       "      <td>0.010972</td>\n",
       "      <td>0.011948</td>\n",
       "    </tr>\n",
       "    <tr>\n",
       "      <th>Item_Visibility</th>\n",
       "      <td>-0.010229</td>\n",
       "      <td>1.000000</td>\n",
       "      <td>-0.007292</td>\n",
       "      <td>0.009324</td>\n",
       "      <td>-0.009644</td>\n",
       "      <td>-0.006419</td>\n",
       "    </tr>\n",
       "    <tr>\n",
       "      <th>Item_MRP</th>\n",
       "      <td>0.033330</td>\n",
       "      <td>-0.007292</td>\n",
       "      <td>1.000000</td>\n",
       "      <td>0.004105</td>\n",
       "      <td>0.679594</td>\n",
       "      <td>-0.008723</td>\n",
       "    </tr>\n",
       "    <tr>\n",
       "      <th>Outlet_Establishment_Year</th>\n",
       "      <td>-0.010596</td>\n",
       "      <td>0.009324</td>\n",
       "      <td>0.004105</td>\n",
       "      <td>1.000000</td>\n",
       "      <td>-0.040869</td>\n",
       "      <td>-0.536393</td>\n",
       "    </tr>\n",
       "    <tr>\n",
       "      <th>Item_Outlet_Sales</th>\n",
       "      <td>0.010972</td>\n",
       "      <td>-0.009644</td>\n",
       "      <td>0.679594</td>\n",
       "      <td>-0.040869</td>\n",
       "      <td>1.000000</td>\n",
       "      <td>-0.025965</td>\n",
       "    </tr>\n",
       "    <tr>\n",
       "      <th>Outlet_Size2</th>\n",
       "      <td>0.011948</td>\n",
       "      <td>-0.006419</td>\n",
       "      <td>-0.008723</td>\n",
       "      <td>-0.536393</td>\n",
       "      <td>-0.025965</td>\n",
       "      <td>1.000000</td>\n",
       "    </tr>\n",
       "  </tbody>\n",
       "</table>\n",
       "</div>"
      ],
      "text/plain": [
       "                           Item_Weight  Item_Visibility  Item_MRP  \\\n",
       "Item_Weight                   1.000000        -0.010229  0.033330   \n",
       "Item_Visibility              -0.010229         1.000000 -0.007292   \n",
       "Item_MRP                      0.033330        -0.007292  1.000000   \n",
       "Outlet_Establishment_Year    -0.010596         0.009324  0.004105   \n",
       "Item_Outlet_Sales             0.010972        -0.009644  0.679594   \n",
       "Outlet_Size2                  0.011948        -0.006419 -0.008723   \n",
       "\n",
       "                           Outlet_Establishment_Year  Item_Outlet_Sales  \\\n",
       "Item_Weight                                -0.010596           0.010972   \n",
       "Item_Visibility                             0.009324          -0.009644   \n",
       "Item_MRP                                    0.004105           0.679594   \n",
       "Outlet_Establishment_Year                   1.000000          -0.040869   \n",
       "Item_Outlet_Sales                          -0.040869           1.000000   \n",
       "Outlet_Size2                               -0.536393          -0.025965   \n",
       "\n",
       "                           Outlet_Size2  \n",
       "Item_Weight                    0.011948  \n",
       "Item_Visibility               -0.006419  \n",
       "Item_MRP                      -0.008723  \n",
       "Outlet_Establishment_Year     -0.536393  \n",
       "Item_Outlet_Sales             -0.025965  \n",
       "Outlet_Size2                   1.000000  "
      ]
     },
     "execution_count": 763,
     "metadata": {},
     "output_type": "execute_result"
    }
   ],
   "source": [
    "df_sinnulos=df.dropna()#.corr()\n",
    "df_sinnulos[\"Outlet_Size2\"]=df_sinnulos[\"Outlet_Size2\"].astype(int)\n",
    "df_sinnulos.corr()  "
   ]
  },
  {
   "cell_type": "code",
   "execution_count": 764,
   "id": "375acc90",
   "metadata": {},
   "outputs": [
    {
     "data": {
      "text/html": [
       "<div>\n",
       "<style scoped>\n",
       "    .dataframe tbody tr th:only-of-type {\n",
       "        vertical-align: middle;\n",
       "    }\n",
       "\n",
       "    .dataframe tbody tr th {\n",
       "        vertical-align: top;\n",
       "    }\n",
       "\n",
       "    .dataframe thead th {\n",
       "        text-align: right;\n",
       "    }\n",
       "</style>\n",
       "<table border=\"1\" class=\"dataframe\">\n",
       "  <thead>\n",
       "    <tr style=\"text-align: right;\">\n",
       "      <th></th>\n",
       "      <th>Outlet_Size2</th>\n",
       "    </tr>\n",
       "  </thead>\n",
       "  <tbody>\n",
       "    <tr>\n",
       "      <th>Item_Weight</th>\n",
       "      <td>0.011948</td>\n",
       "    </tr>\n",
       "    <tr>\n",
       "      <th>Item_Visibility</th>\n",
       "      <td>-0.006419</td>\n",
       "    </tr>\n",
       "    <tr>\n",
       "      <th>Item_MRP</th>\n",
       "      <td>-0.008723</td>\n",
       "    </tr>\n",
       "    <tr>\n",
       "      <th>Item_Outlet_Sales</th>\n",
       "      <td>-0.025965</td>\n",
       "    </tr>\n",
       "    <tr>\n",
       "      <th>Outlet_Establishment_Year</th>\n",
       "      <td>-0.536393</td>\n",
       "    </tr>\n",
       "  </tbody>\n",
       "</table>\n",
       "</div>"
      ],
      "text/plain": [
       "                           Outlet_Size2\n",
       "Item_Weight                    0.011948\n",
       "Item_Visibility               -0.006419\n",
       "Item_MRP                      -0.008723\n",
       "Item_Outlet_Sales             -0.025965\n",
       "Outlet_Establishment_Year     -0.536393"
      ]
     },
     "execution_count": 764,
     "metadata": {},
     "output_type": "execute_result"
    }
   ],
   "source": [
    "pd.DataFrame(df_sinnulos.corr()[\"Outlet_Size2\"]).sort_values(\"Outlet_Size2\", ascending=False).iloc[1:,:]"
   ]
  },
  {
   "cell_type": "code",
   "execution_count": 765,
   "id": "750ea8cc",
   "metadata": {},
   "outputs": [
    {
     "data": {
      "text/plain": [
       "Medium    2793\n",
       "Small     2388\n",
       "High       932\n",
       "Name: Outlet_Size, dtype: int64"
      ]
     },
     "execution_count": 765,
     "metadata": {},
     "output_type": "execute_result"
    }
   ],
   "source": [
    "df[\"Outlet_Size\"].value_counts()"
   ]
  },
  {
   "cell_type": "markdown",
   "id": "saved-possibility",
   "metadata": {},
   "source": [
    "# Parte 2: Tratamiento de los valos nulos y diplocados "
   ]
  },
  {
   "cell_type": "markdown",
   "id": "b13c8043",
   "metadata": {},
   "source": [
    "## 2.1 Valores duplicados"
   ]
  },
  {
   "cell_type": "code",
   "execution_count": 766,
   "id": "f9e9cbe6",
   "metadata": {
    "scrolled": true
   },
   "outputs": [
    {
     "name": "stdout",
     "output_type": "stream",
     "text": [
      "\u001b[94m\u001b[1mLa cantidad de duplicados es 0\u001b[0m\u001b[94m\n"
     ]
    }
   ],
   "source": [
    "print ('\\033[94m'+'\\033[1m'+\"La cantidad de duplicados es\",str(df.drop_duplicates().shape[0]-df.shape[0])+'\\033[0m'+'\\033[94m')"
   ]
  },
  {
   "cell_type": "markdown",
   "id": "b6d45218",
   "metadata": {},
   "source": [
    "### 2.4 Arreglo la columna de grasas"
   ]
  },
  {
   "cell_type": "code",
   "execution_count": 767,
   "id": "6e19325a",
   "metadata": {
    "scrolled": true
   },
   "outputs": [
    {
     "data": {
      "text/plain": [
       "Low Fat    5089\n",
       "Regular    2889\n",
       "LF          316\n",
       "reg         117\n",
       "low fat     112\n",
       "Name: Item_Fat_Content, dtype: int64"
      ]
     },
     "execution_count": 767,
     "metadata": {},
     "output_type": "execute_result"
    }
   ],
   "source": [
    "df[\"Item_Fat_Content\"].value_counts()"
   ]
  },
  {
   "cell_type": "code",
   "execution_count": 768,
   "id": "52d01cf3",
   "metadata": {
    "scrolled": false
   },
   "outputs": [
    {
     "name": "stderr",
     "output_type": "stream",
     "text": [
      "C:\\Users\\crist\\AppData\\Local\\Temp/ipykernel_11412/3760204542.py:1: SettingWithCopyWarning: \n",
      "A value is trying to be set on a copy of a slice from a DataFrame\n",
      "\n",
      "See the caveats in the documentation: https://pandas.pydata.org/pandas-docs/stable/user_guide/indexing.html#returning-a-view-versus-a-copy\n",
      "  df[\"Item_Fat_Content\"][(df[\"Item_Fat_Content\"]==\"LF\") |(df[\"Item_Fat_Content\"]==\"low fat\")  ]=\"Low Fat\"\n",
      "C:\\Users\\crist\\AppData\\Local\\Temp/ipykernel_11412/3760204542.py:2: SettingWithCopyWarning: \n",
      "A value is trying to be set on a copy of a slice from a DataFrame\n",
      "\n",
      "See the caveats in the documentation: https://pandas.pydata.org/pandas-docs/stable/user_guide/indexing.html#returning-a-view-versus-a-copy\n",
      "  df[\"Item_Fat_Content\"][(df[\"Item_Fat_Content\"]==\"reg\")  ]=\"Regular\"\n"
     ]
    }
   ],
   "source": [
    "df[\"Item_Fat_Content\"][(df[\"Item_Fat_Content\"]==\"LF\") |(df[\"Item_Fat_Content\"]==\"low fat\")  ]=\"Low Fat\"\n",
    "df[\"Item_Fat_Content\"][(df[\"Item_Fat_Content\"]==\"reg\")  ]=\"Regular\""
   ]
  },
  {
   "cell_type": "code",
   "execution_count": 769,
   "id": "587b42da",
   "metadata": {},
   "outputs": [
    {
     "data": {
      "text/plain": [
       "Low Fat    5517\n",
       "Regular    3006\n",
       "Name: Item_Fat_Content, dtype: int64"
      ]
     },
     "execution_count": 769,
     "metadata": {},
     "output_type": "execute_result"
    }
   ],
   "source": [
    "df[\"Item_Fat_Content\"].value_counts()"
   ]
  },
  {
   "cell_type": "markdown",
   "id": "a21fdd4a",
   "metadata": {},
   "source": [
    "## 2.2 valores nulos"
   ]
  },
  {
   "cell_type": "markdown",
   "id": "e1c49c4e",
   "metadata": {},
   "source": [
    "### 2.2.1 Valores nulos - Item_Weight\n",
    "**Completaremos con el id**"
   ]
  },
  {
   "cell_type": "code",
   "execution_count": 770,
   "id": "934d4026",
   "metadata": {},
   "outputs": [
    {
     "data": {
      "text/plain": [
       "Item_Identifier                 0\n",
       "Item_Weight                  1463\n",
       "Item_Fat_Content                0\n",
       "Item_Visibility                 0\n",
       "Item_Type                       0\n",
       "Item_MRP                        0\n",
       "Outlet_Identifier               0\n",
       "Outlet_Establishment_Year       0\n",
       "Outlet_Size                  2410\n",
       "Outlet_Location_Type            0\n",
       "Outlet_Type                     0\n",
       "Item_Outlet_Sales               0\n",
       "Outlet_Size2                    0\n",
       "dtype: int64"
      ]
     },
     "execution_count": 770,
     "metadata": {},
     "output_type": "execute_result"
    }
   ],
   "source": [
    "df.isnull().sum()"
   ]
  },
  {
   "cell_type": "code",
   "execution_count": 771,
   "id": "a32c7e1b",
   "metadata": {},
   "outputs": [],
   "source": [
    "### Comprovamos que a cada identificador corresponde un peso\n",
    "valores=pd.DataFrame(df[[\"Item_Identifier\",\"Item_Weight\"]].value_counts()).reset_index().iloc[:,:2]\n"
   ]
  },
  {
   "cell_type": "code",
   "execution_count": 772,
   "id": "4cc055a3",
   "metadata": {
    "scrolled": true
   },
   "outputs": [
    {
     "name": "stderr",
     "output_type": "stream",
     "text": [
      "C:\\Users\\crist\\AppData\\Local\\Temp/ipykernel_11412/2170998948.py:2: SettingWithCopyWarning: \n",
      "A value is trying to be set on a copy of a slice from a DataFrame\n",
      "\n",
      "See the caveats in the documentation: https://pandas.pydata.org/pandas-docs/stable/user_guide/indexing.html#returning-a-view-versus-a-copy\n",
      "  df[\"Item_Weight\"][df[\"Item_Weight\"].isnull()]=df[\"Item_Identifier\"][df[\"Item_Weight\"].isnull()].apply( lambda x:valores[valores[\"Item_Identifier\"]==x][\"Item_Weight\"].values[0] if len(valores[valores[\"Item_Identifier\"]==x][\"Item_Weight\"].values)>0 else np.NaN )\n"
     ]
    }
   ],
   "source": [
    "valores=pd.DataFrame(df[[\"Item_Identifier\",\"Item_Weight\"]].value_counts()).reset_index().iloc[:,:2]\n",
    "df[\"Item_Weight\"][df[\"Item_Weight\"].isnull()]=df[\"Item_Identifier\"][df[\"Item_Weight\"].isnull()].apply( lambda x:valores[valores[\"Item_Identifier\"]==x][\"Item_Weight\"].values[0] if len(valores[valores[\"Item_Identifier\"]==x][\"Item_Weight\"].values)>0 else np.NaN )  "
   ]
  },
  {
   "cell_type": "code",
   "execution_count": 773,
   "id": "cbbfd798",
   "metadata": {},
   "outputs": [
    {
     "data": {
      "text/plain": [
       "Item_Identifier                 0\n",
       "Item_Weight                     4\n",
       "Item_Fat_Content                0\n",
       "Item_Visibility                 0\n",
       "Item_Type                       0\n",
       "Item_MRP                        0\n",
       "Outlet_Identifier               0\n",
       "Outlet_Establishment_Year       0\n",
       "Outlet_Size                  2410\n",
       "Outlet_Location_Type            0\n",
       "Outlet_Type                     0\n",
       "Item_Outlet_Sales               0\n",
       "Outlet_Size2                    0\n",
       "dtype: int64"
      ]
     },
     "execution_count": 773,
     "metadata": {},
     "output_type": "execute_result"
    }
   ],
   "source": [
    "df.isnull().sum()"
   ]
  },
  {
   "cell_type": "markdown",
   "id": "76559f61",
   "metadata": {},
   "source": [
    "### 2.2.2 Elimino los otros nulos"
   ]
  },
  {
   "cell_type": "code",
   "execution_count": 774,
   "id": "f53f785f",
   "metadata": {},
   "outputs": [
    {
     "name": "stdout",
     "output_type": "stream",
     "text": [
      "La cantidad de eliminados: 4\n"
     ]
    }
   ],
   "source": [
    "largo=df.shape[0]\n",
    "df=df.dropna(subset=[\"Item_Weight\"])\n",
    "print (\"La cantidad de eliminados:\", largo- df.shape[0])"
   ]
  },
  {
   "cell_type": "markdown",
   "id": "f6e2787f",
   "metadata": {},
   "source": [
    "### 2.2.3 Valores nulos - Outlet_Size "
   ]
  },
  {
   "cell_type": "code",
   "execution_count": 775,
   "id": "8f7cd44f",
   "metadata": {},
   "outputs": [
    {
     "data": {
      "text/html": [
       "<div>\n",
       "<style scoped>\n",
       "    .dataframe tbody tr th:only-of-type {\n",
       "        vertical-align: middle;\n",
       "    }\n",
       "\n",
       "    .dataframe tbody tr th {\n",
       "        vertical-align: top;\n",
       "    }\n",
       "\n",
       "    .dataframe thead th {\n",
       "        text-align: right;\n",
       "    }\n",
       "</style>\n",
       "<table border=\"1\" class=\"dataframe\">\n",
       "  <thead>\n",
       "    <tr style=\"text-align: right;\">\n",
       "      <th></th>\n",
       "      <th>Outlet_Identifier</th>\n",
       "      <th>Outlet_Size</th>\n",
       "    </tr>\n",
       "  </thead>\n",
       "  <tbody>\n",
       "    <tr>\n",
       "      <th>0</th>\n",
       "      <td>OUT013</td>\n",
       "      <td>High</td>\n",
       "    </tr>\n",
       "    <tr>\n",
       "      <th>1</th>\n",
       "      <td>OUT027</td>\n",
       "      <td>Medium</td>\n",
       "    </tr>\n",
       "    <tr>\n",
       "      <th>2</th>\n",
       "      <td>OUT035</td>\n",
       "      <td>Small</td>\n",
       "    </tr>\n",
       "    <tr>\n",
       "      <th>3</th>\n",
       "      <td>OUT046</td>\n",
       "      <td>Small</td>\n",
       "    </tr>\n",
       "    <tr>\n",
       "      <th>4</th>\n",
       "      <td>OUT049</td>\n",
       "      <td>Medium</td>\n",
       "    </tr>\n",
       "    <tr>\n",
       "      <th>5</th>\n",
       "      <td>OUT018</td>\n",
       "      <td>Medium</td>\n",
       "    </tr>\n",
       "    <tr>\n",
       "      <th>6</th>\n",
       "      <td>OUT019</td>\n",
       "      <td>Small</td>\n",
       "    </tr>\n",
       "  </tbody>\n",
       "</table>\n",
       "</div>"
      ],
      "text/plain": [
       "  Outlet_Identifier Outlet_Size\n",
       "0            OUT013        High\n",
       "1            OUT027      Medium\n",
       "2            OUT035       Small\n",
       "3            OUT046       Small\n",
       "4            OUT049      Medium\n",
       "5            OUT018      Medium\n",
       "6            OUT019       Small"
      ]
     },
     "execution_count": 775,
     "metadata": {},
     "output_type": "execute_result"
    }
   ],
   "source": [
    "valores=pd.DataFrame(df[[\"Outlet_Identifier\",\"Outlet_Size\"]].value_counts()).reset_index().iloc[:,:2]\n",
    "valores"
   ]
  },
  {
   "cell_type": "code",
   "execution_count": 776,
   "id": "60d97ac7",
   "metadata": {
    "scrolled": true
   },
   "outputs": [
    {
     "name": "stderr",
     "output_type": "stream",
     "text": [
      "C:\\Users\\crist\\AppData\\Local\\Temp/ipykernel_11412/2822784226.py:1: SettingWithCopyWarning: \n",
      "A value is trying to be set on a copy of a slice from a DataFrame\n",
      "\n",
      "See the caveats in the documentation: https://pandas.pydata.org/pandas-docs/stable/user_guide/indexing.html#returning-a-view-versus-a-copy\n",
      "  df[\"Outlet_Size\"][df[\"Outlet_Size\"].isnull()]=df[\"Outlet_Identifier\"][df[\"Outlet_Size\"].isnull()].apply( lambda x:valores[valores[\"Outlet_Identifier\"]==x][\"Outlet_Size\"].values[0] if len(valores[valores[\"Outlet_Identifier\"]==x][\"Outlet_Size\"].values)>0 else np.NaN )\n",
      "C:\\Users\\crist\\anaconda3\\lib\\site-packages\\pandas\\core\\generic.py:8870: SettingWithCopyWarning: \n",
      "A value is trying to be set on a copy of a slice from a DataFrame\n",
      "\n",
      "See the caveats in the documentation: https://pandas.pydata.org/pandas-docs/stable/user_guide/indexing.html#returning-a-view-versus-a-copy\n",
      "  return self._update_inplace(result)\n"
     ]
    }
   ],
   "source": [
    "df[\"Outlet_Size\"][df[\"Outlet_Size\"].isnull()]=df[\"Outlet_Identifier\"][df[\"Outlet_Size\"].isnull()].apply( lambda x:valores[valores[\"Outlet_Identifier\"]==x][\"Outlet_Size\"].values[0] if len(valores[valores[\"Outlet_Identifier\"]==x][\"Outlet_Size\"].values)>0 else np.NaN )  "
   ]
  },
  {
   "cell_type": "code",
   "execution_count": 777,
   "id": "cfd8c94e",
   "metadata": {},
   "outputs": [
    {
     "data": {
      "text/plain": [
       "Item_Identifier                 0\n",
       "Item_Weight                     0\n",
       "Item_Fat_Content                0\n",
       "Item_Visibility                 0\n",
       "Item_Type                       0\n",
       "Item_MRP                        0\n",
       "Outlet_Identifier               0\n",
       "Outlet_Establishment_Year       0\n",
       "Outlet_Size                  2410\n",
       "Outlet_Location_Type            0\n",
       "Outlet_Type                     0\n",
       "Item_Outlet_Sales               0\n",
       "Outlet_Size2                    0\n",
       "dtype: int64"
      ]
     },
     "execution_count": 777,
     "metadata": {},
     "output_type": "execute_result"
    }
   ],
   "source": [
    "df.isnull().sum()"
   ]
  },
  {
   "cell_type": "markdown",
   "id": "954367b2",
   "metadata": {},
   "source": [
    "**CONCLUSIÓN**  \n",
    "No sirve de la forma asociada, ya que los valores no esta, tampoco se puede predecir ya que a una tienda corresponde un tamaño, lo cual podria ocurrir que dos tamaños corresponde a una clase"
   ]
  },
  {
   "cell_type": "markdown",
   "id": "345605aa",
   "metadata": {},
   "source": [
    "### 2.2.4 Comprobación por venta"
   ]
  },
  {
   "cell_type": "code",
   "execution_count": 778,
   "id": "f77d99ab",
   "metadata": {},
   "outputs": [
    {
     "data": {
      "text/plain": [
       "Outlet_Size\n",
       "High      2298.995256\n",
       "Medium    2681.097134\n",
       "Small     1912.899743\n",
       "Name: Item_Outlet_Sales, dtype: float64"
      ]
     },
     "execution_count": 778,
     "metadata": {},
     "output_type": "execute_result"
    }
   ],
   "source": [
    "df.groupby(\"Outlet_Size\").mean()[\"Item_Outlet_Sales\"]"
   ]
  },
  {
   "cell_type": "code",
   "execution_count": 779,
   "id": "865ef200",
   "metadata": {},
   "outputs": [
    {
     "data": {
      "text/html": [
       "<div>\n",
       "<style scoped>\n",
       "    .dataframe tbody tr th:only-of-type {\n",
       "        vertical-align: middle;\n",
       "    }\n",
       "\n",
       "    .dataframe tbody tr th {\n",
       "        vertical-align: top;\n",
       "    }\n",
       "\n",
       "    .dataframe thead th {\n",
       "        text-align: right;\n",
       "    }\n",
       "</style>\n",
       "<table border=\"1\" class=\"dataframe\">\n",
       "  <thead>\n",
       "    <tr style=\"text-align: right;\">\n",
       "      <th></th>\n",
       "      <th>Outlet_Identifier</th>\n",
       "      <th>Outlet_Size</th>\n",
       "      <th>Item_Outlet_Sales</th>\n",
       "    </tr>\n",
       "  </thead>\n",
       "  <tbody>\n",
       "    <tr>\n",
       "      <th>0</th>\n",
       "      <td>OUT013</td>\n",
       "      <td>High</td>\n",
       "      <td>2298.995256</td>\n",
       "    </tr>\n",
       "    <tr>\n",
       "      <th>1</th>\n",
       "      <td>OUT018</td>\n",
       "      <td>Medium</td>\n",
       "      <td>1995.498739</td>\n",
       "    </tr>\n",
       "    <tr>\n",
       "      <th>2</th>\n",
       "      <td>OUT019</td>\n",
       "      <td>Small</td>\n",
       "      <td>340.746838</td>\n",
       "    </tr>\n",
       "    <tr>\n",
       "      <th>3</th>\n",
       "      <td>OUT027</td>\n",
       "      <td>Medium</td>\n",
       "      <td>3695.781505</td>\n",
       "    </tr>\n",
       "    <tr>\n",
       "      <th>4</th>\n",
       "      <td>OUT035</td>\n",
       "      <td>Small</td>\n",
       "      <td>2438.841866</td>\n",
       "    </tr>\n",
       "    <tr>\n",
       "      <th>5</th>\n",
       "      <td>OUT046</td>\n",
       "      <td>Small</td>\n",
       "      <td>2277.844267</td>\n",
       "    </tr>\n",
       "    <tr>\n",
       "      <th>6</th>\n",
       "      <td>OUT049</td>\n",
       "      <td>Medium</td>\n",
       "      <td>2348.354635</td>\n",
       "    </tr>\n",
       "  </tbody>\n",
       "</table>\n",
       "</div>"
      ],
      "text/plain": [
       "  Outlet_Identifier Outlet_Size  Item_Outlet_Sales\n",
       "0            OUT013        High        2298.995256\n",
       "1            OUT018      Medium        1995.498739\n",
       "2            OUT019       Small         340.746838\n",
       "3            OUT027      Medium        3695.781505\n",
       "4            OUT035       Small        2438.841866\n",
       "5            OUT046       Small        2277.844267\n",
       "6            OUT049      Medium        2348.354635"
      ]
     },
     "execution_count": 779,
     "metadata": {},
     "output_type": "execute_result"
    }
   ],
   "source": [
    "grupo=pd.DataFrame(df.groupby([\"Outlet_Identifier\" ,\"Outlet_Size\"]).mean()[\"Item_Outlet_Sales\"]).reset_index()\n",
    "grupo"
   ]
  },
  {
   "cell_type": "code",
   "execution_count": 780,
   "id": "1e727a0a",
   "metadata": {},
   "outputs": [
    {
     "data": {
      "text/html": [
       "<div>\n",
       "<style scoped>\n",
       "    .dataframe tbody tr th:only-of-type {\n",
       "        vertical-align: middle;\n",
       "    }\n",
       "\n",
       "    .dataframe tbody tr th {\n",
       "        vertical-align: top;\n",
       "    }\n",
       "\n",
       "    .dataframe thead th {\n",
       "        text-align: right;\n",
       "    }\n",
       "</style>\n",
       "<table border=\"1\" class=\"dataframe\">\n",
       "  <thead>\n",
       "    <tr style=\"text-align: right;\">\n",
       "      <th></th>\n",
       "      <th>Outlet_Identifier</th>\n",
       "      <th>Outlet_Establishment_Year</th>\n",
       "      <th>años</th>\n",
       "    </tr>\n",
       "  </thead>\n",
       "  <tbody>\n",
       "    <tr>\n",
       "      <th>0</th>\n",
       "      <td>OUT013</td>\n",
       "      <td>1987</td>\n",
       "      <td>35</td>\n",
       "    </tr>\n",
       "    <tr>\n",
       "      <th>1</th>\n",
       "      <td>OUT027</td>\n",
       "      <td>1985</td>\n",
       "      <td>37</td>\n",
       "    </tr>\n",
       "    <tr>\n",
       "      <th>2</th>\n",
       "      <td>OUT035</td>\n",
       "      <td>2004</td>\n",
       "      <td>18</td>\n",
       "    </tr>\n",
       "    <tr>\n",
       "      <th>3</th>\n",
       "      <td>OUT046</td>\n",
       "      <td>1997</td>\n",
       "      <td>25</td>\n",
       "    </tr>\n",
       "    <tr>\n",
       "      <th>4</th>\n",
       "      <td>OUT049</td>\n",
       "      <td>1999</td>\n",
       "      <td>23</td>\n",
       "    </tr>\n",
       "    <tr>\n",
       "      <th>5</th>\n",
       "      <td>OUT045</td>\n",
       "      <td>2002</td>\n",
       "      <td>20</td>\n",
       "    </tr>\n",
       "    <tr>\n",
       "      <th>6</th>\n",
       "      <td>OUT018</td>\n",
       "      <td>2009</td>\n",
       "      <td>13</td>\n",
       "    </tr>\n",
       "    <tr>\n",
       "      <th>7</th>\n",
       "      <td>OUT017</td>\n",
       "      <td>2007</td>\n",
       "      <td>15</td>\n",
       "    </tr>\n",
       "    <tr>\n",
       "      <th>8</th>\n",
       "      <td>OUT010</td>\n",
       "      <td>1998</td>\n",
       "      <td>24</td>\n",
       "    </tr>\n",
       "    <tr>\n",
       "      <th>9</th>\n",
       "      <td>OUT019</td>\n",
       "      <td>1985</td>\n",
       "      <td>37</td>\n",
       "    </tr>\n",
       "  </tbody>\n",
       "</table>\n",
       "</div>"
      ],
      "text/plain": [
       "  Outlet_Identifier  Outlet_Establishment_Year  años\n",
       "0            OUT013                       1987    35\n",
       "1            OUT027                       1985    37\n",
       "2            OUT035                       2004    18\n",
       "3            OUT046                       1997    25\n",
       "4            OUT049                       1999    23\n",
       "5            OUT045                       2002    20\n",
       "6            OUT018                       2009    13\n",
       "7            OUT017                       2007    15\n",
       "8            OUT010                       1998    24\n",
       "9            OUT019                       1985    37"
      ]
     },
     "execution_count": 780,
     "metadata": {},
     "output_type": "execute_result"
    }
   ],
   "source": [
    "import datetime\n",
    "años=pd.DataFrame(df[[\"Outlet_Identifier\" ,\"Outlet_Establishment_Year\"]].value_counts()).reset_index().iloc[:,:2]\n",
    "años[\"años\"]=datetime.datetime.now().year-años[\"Outlet_Establishment_Year\"]\n",
    "años"
   ]
  },
  {
   "cell_type": "code",
   "execution_count": 781,
   "id": "93d8cf99",
   "metadata": {},
   "outputs": [
    {
     "data": {
      "text/html": [
       "<div>\n",
       "<style scoped>\n",
       "    .dataframe tbody tr th:only-of-type {\n",
       "        vertical-align: middle;\n",
       "    }\n",
       "\n",
       "    .dataframe tbody tr th {\n",
       "        vertical-align: top;\n",
       "    }\n",
       "\n",
       "    .dataframe thead th {\n",
       "        text-align: right;\n",
       "    }\n",
       "</style>\n",
       "<table border=\"1\" class=\"dataframe\">\n",
       "  <thead>\n",
       "    <tr style=\"text-align: right;\">\n",
       "      <th></th>\n",
       "      <th>Outlet_Identifier</th>\n",
       "      <th>Outlet_Size</th>\n",
       "      <th>Item_Outlet_Sales</th>\n",
       "      <th>Outlet_Establishment_Year</th>\n",
       "      <th>años</th>\n",
       "      <th>promedio por año</th>\n",
       "    </tr>\n",
       "  </thead>\n",
       "  <tbody>\n",
       "    <tr>\n",
       "      <th>0</th>\n",
       "      <td>OUT013</td>\n",
       "      <td>High</td>\n",
       "      <td>2298.995256</td>\n",
       "      <td>1987</td>\n",
       "      <td>35</td>\n",
       "      <td>65.685579</td>\n",
       "    </tr>\n",
       "    <tr>\n",
       "      <th>1</th>\n",
       "      <td>OUT018</td>\n",
       "      <td>Medium</td>\n",
       "      <td>1995.498739</td>\n",
       "      <td>2009</td>\n",
       "      <td>13</td>\n",
       "      <td>153.499903</td>\n",
       "    </tr>\n",
       "    <tr>\n",
       "      <th>2</th>\n",
       "      <td>OUT019</td>\n",
       "      <td>Small</td>\n",
       "      <td>340.746838</td>\n",
       "      <td>1985</td>\n",
       "      <td>37</td>\n",
       "      <td>9.209374</td>\n",
       "    </tr>\n",
       "    <tr>\n",
       "      <th>3</th>\n",
       "      <td>OUT027</td>\n",
       "      <td>Medium</td>\n",
       "      <td>3695.781505</td>\n",
       "      <td>1985</td>\n",
       "      <td>37</td>\n",
       "      <td>99.885987</td>\n",
       "    </tr>\n",
       "    <tr>\n",
       "      <th>4</th>\n",
       "      <td>OUT035</td>\n",
       "      <td>Small</td>\n",
       "      <td>2438.841866</td>\n",
       "      <td>2004</td>\n",
       "      <td>18</td>\n",
       "      <td>135.491215</td>\n",
       "    </tr>\n",
       "    <tr>\n",
       "      <th>5</th>\n",
       "      <td>OUT046</td>\n",
       "      <td>Small</td>\n",
       "      <td>2277.844267</td>\n",
       "      <td>1997</td>\n",
       "      <td>25</td>\n",
       "      <td>91.113771</td>\n",
       "    </tr>\n",
       "    <tr>\n",
       "      <th>6</th>\n",
       "      <td>OUT049</td>\n",
       "      <td>Medium</td>\n",
       "      <td>2348.354635</td>\n",
       "      <td>1999</td>\n",
       "      <td>23</td>\n",
       "      <td>102.102375</td>\n",
       "    </tr>\n",
       "  </tbody>\n",
       "</table>\n",
       "</div>"
      ],
      "text/plain": [
       "  Outlet_Identifier Outlet_Size  Item_Outlet_Sales  Outlet_Establishment_Year  \\\n",
       "0            OUT013        High        2298.995256                       1987   \n",
       "1            OUT018      Medium        1995.498739                       2009   \n",
       "2            OUT019       Small         340.746838                       1985   \n",
       "3            OUT027      Medium        3695.781505                       1985   \n",
       "4            OUT035       Small        2438.841866                       2004   \n",
       "5            OUT046       Small        2277.844267                       1997   \n",
       "6            OUT049      Medium        2348.354635                       1999   \n",
       "\n",
       "   años  promedio por año  \n",
       "0    35         65.685579  \n",
       "1    13        153.499903  \n",
       "2    37          9.209374  \n",
       "3    37         99.885987  \n",
       "4    18        135.491215  \n",
       "5    25         91.113771  \n",
       "6    23        102.102375  "
      ]
     },
     "execution_count": 781,
     "metadata": {},
     "output_type": "execute_result"
    }
   ],
   "source": [
    "junto=pd.merge(grupo,años, on=\"Outlet_Identifier\")\n",
    "junto[\"promedio por año\"]=junto[\"Item_Outlet_Sales\"]/junto[\"años\"]\n",
    "junto"
   ]
  },
  {
   "cell_type": "markdown",
   "id": "cd30c4c1",
   "metadata": {},
   "source": [
    "## No hay ninguna tendencia clara, que en base al tamaño de tienda venda mas "
   ]
  },
  {
   "cell_type": "markdown",
   "id": "eccba005",
   "metadata": {},
   "source": [
    "## Creare dos situaciones alternas\n",
    "* Asignadole una clase a la tienda para no desproporcional las clases\n",
    "* Elimino los nulos"
   ]
  },
  {
   "cell_type": "code",
   "execution_count": 782,
   "id": "eb59da28",
   "metadata": {
    "scrolled": true
   },
   "outputs": [
    {
     "data": {
      "text/plain": [
       "Outlet_Identifier\n",
       "OUT045               929\n",
       "OUT017               926\n",
       "OUT010               555\n",
       "dtype: int64"
      ]
     },
     "execution_count": 782,
     "metadata": {},
     "output_type": "execute_result"
    }
   ],
   "source": [
    "df[df[\"Outlet_Size\"].isnull()][[\"Outlet_Identifier\"]].value_counts()"
   ]
  },
  {
   "cell_type": "markdown",
   "id": "c66a06f5",
   "metadata": {},
   "source": [
    "### Actulamente tengo este tipo de clases"
   ]
  },
  {
   "cell_type": "code",
   "execution_count": 783,
   "id": "921e4c4c",
   "metadata": {},
   "outputs": [
    {
     "data": {
      "text/html": [
       "<div>\n",
       "<style scoped>\n",
       "    .dataframe tbody tr th:only-of-type {\n",
       "        vertical-align: middle;\n",
       "    }\n",
       "\n",
       "    .dataframe tbody tr th {\n",
       "        vertical-align: top;\n",
       "    }\n",
       "\n",
       "    .dataframe thead th {\n",
       "        text-align: right;\n",
       "    }\n",
       "</style>\n",
       "<table border=\"1\" class=\"dataframe\">\n",
       "  <thead>\n",
       "    <tr style=\"text-align: right;\">\n",
       "      <th></th>\n",
       "      <th>Outlet_Size</th>\n",
       "      <th>Outlet_Size</th>\n",
       "    </tr>\n",
       "  </thead>\n",
       "  <tbody>\n",
       "    <tr>\n",
       "      <th>Medium</th>\n",
       "      <td>2790</td>\n",
       "      <td>0.456703</td>\n",
       "    </tr>\n",
       "    <tr>\n",
       "      <th>Small</th>\n",
       "      <td>2387</td>\n",
       "      <td>0.390735</td>\n",
       "    </tr>\n",
       "    <tr>\n",
       "      <th>High</th>\n",
       "      <td>932</td>\n",
       "      <td>0.152562</td>\n",
       "    </tr>\n",
       "  </tbody>\n",
       "</table>\n",
       "</div>"
      ],
      "text/plain": [
       "        Outlet_Size  Outlet_Size\n",
       "Medium         2790     0.456703\n",
       "Small          2387     0.390735\n",
       "High            932     0.152562"
      ]
     },
     "execution_count": 783,
     "metadata": {},
     "output_type": "execute_result"
    }
   ],
   "source": [
    "pd.concat([pd.DataFrame(df[\"Outlet_Size\"].value_counts()),pd.DataFrame(df[\"Outlet_Size\"].value_counts(normalize=True))], axis=1)"
   ]
  },
  {
   "cell_type": "markdown",
   "id": "d5a0bd26",
   "metadata": {},
   "source": [
    "### Copia de valores sin nulos"
   ]
  },
  {
   "cell_type": "code",
   "execution_count": 784,
   "id": "6c1cb149",
   "metadata": {},
   "outputs": [
    {
     "data": {
      "text/plain": [
       "6109"
      ]
     },
     "execution_count": 784,
     "metadata": {},
     "output_type": "execute_result"
    }
   ],
   "source": [
    "dfsinnulos=df.dropna(subset=[\"Outlet_Size\"])\n",
    "dfsinnulos.shape[0]"
   ]
  },
  {
   "cell_type": "markdown",
   "id": "480244a1",
   "metadata": {},
   "source": [
    "**Por lo tanto, al OUT45 ==\"Medium\", OUT17 ==\"Small\",OUT10 ==\"High\"**"
   ]
  },
  {
   "cell_type": "code",
   "execution_count": 697,
   "id": "2e46c860",
   "metadata": {
    "scrolled": true
   },
   "outputs": [
    {
     "name": "stderr",
     "output_type": "stream",
     "text": [
      "C:\\Users\\crist\\AppData\\Local\\Temp/ipykernel_11412/887982433.py:1: SettingWithCopyWarning: \n",
      "A value is trying to be set on a copy of a slice from a DataFrame\n",
      "\n",
      "See the caveats in the documentation: https://pandas.pydata.org/pandas-docs/stable/user_guide/indexing.html#returning-a-view-versus-a-copy\n",
      "  df[\"Outlet_Size\"][df[\"Outlet_Identifier\"]==\"OUT045\"]=\"Medium\"\n",
      "C:\\Users\\crist\\anaconda3\\lib\\site-packages\\pandas\\core\\generic.py:8870: SettingWithCopyWarning: \n",
      "A value is trying to be set on a copy of a slice from a DataFrame\n",
      "\n",
      "See the caveats in the documentation: https://pandas.pydata.org/pandas-docs/stable/user_guide/indexing.html#returning-a-view-versus-a-copy\n",
      "  return self._update_inplace(result)\n",
      "C:\\Users\\crist\\AppData\\Local\\Temp/ipykernel_11412/887982433.py:2: SettingWithCopyWarning: \n",
      "A value is trying to be set on a copy of a slice from a DataFrame\n",
      "\n",
      "See the caveats in the documentation: https://pandas.pydata.org/pandas-docs/stable/user_guide/indexing.html#returning-a-view-versus-a-copy\n",
      "  df[\"Outlet_Size\"][df[\"Outlet_Identifier\"]==\"OUT017\"]=\"Small\"\n",
      "C:\\Users\\crist\\AppData\\Local\\Temp/ipykernel_11412/887982433.py:3: SettingWithCopyWarning: \n",
      "A value is trying to be set on a copy of a slice from a DataFrame\n",
      "\n",
      "See the caveats in the documentation: https://pandas.pydata.org/pandas-docs/stable/user_guide/indexing.html#returning-a-view-versus-a-copy\n",
      "  df[\"Outlet_Size\"][df[\"Outlet_Identifier\"]==\"OUT010\"]=\"High\"\n"
     ]
    }
   ],
   "source": [
    "df[\"Outlet_Size\"][df[\"Outlet_Identifier\"]==\"OUT045\"]=\"Medium\"\n",
    "df[\"Outlet_Size\"][df[\"Outlet_Identifier\"]==\"OUT017\"]=\"Small\"\n",
    "df[\"Outlet_Size\"][df[\"Outlet_Identifier\"]==\"OUT010\"]=\"High\""
   ]
  },
  {
   "cell_type": "code",
   "execution_count": 698,
   "id": "8991f59a",
   "metadata": {},
   "outputs": [
    {
     "data": {
      "text/html": [
       "<div>\n",
       "<style scoped>\n",
       "    .dataframe tbody tr th:only-of-type {\n",
       "        vertical-align: middle;\n",
       "    }\n",
       "\n",
       "    .dataframe tbody tr th {\n",
       "        vertical-align: top;\n",
       "    }\n",
       "\n",
       "    .dataframe thead th {\n",
       "        text-align: right;\n",
       "    }\n",
       "</style>\n",
       "<table border=\"1\" class=\"dataframe\">\n",
       "  <thead>\n",
       "    <tr style=\"text-align: right;\">\n",
       "      <th></th>\n",
       "      <th>Outlet_Size</th>\n",
       "      <th>Outlet_Size</th>\n",
       "    </tr>\n",
       "  </thead>\n",
       "  <tbody>\n",
       "    <tr>\n",
       "      <th>Medium</th>\n",
       "      <td>3719</td>\n",
       "      <td>0.436554</td>\n",
       "    </tr>\n",
       "    <tr>\n",
       "      <th>Small</th>\n",
       "      <td>3313</td>\n",
       "      <td>0.388895</td>\n",
       "    </tr>\n",
       "    <tr>\n",
       "      <th>High</th>\n",
       "      <td>1487</td>\n",
       "      <td>0.174551</td>\n",
       "    </tr>\n",
       "  </tbody>\n",
       "</table>\n",
       "</div>"
      ],
      "text/plain": [
       "        Outlet_Size  Outlet_Size\n",
       "Medium         3719     0.436554\n",
       "Small          3313     0.388895\n",
       "High           1487     0.174551"
      ]
     },
     "execution_count": 698,
     "metadata": {},
     "output_type": "execute_result"
    }
   ],
   "source": [
    "pd.concat([pd.DataFrame(df[\"Outlet_Size\"].value_counts()),pd.DataFrame(df[\"Outlet_Size\"].value_counts(normalize=True))], axis=1)"
   ]
  },
  {
   "cell_type": "markdown",
   "id": "solid-terminal",
   "metadata": {},
   "source": [
    "### Parte 3: Visualización"
   ]
  },
  {
   "cell_type": "markdown",
   "id": "combined-constant",
   "metadata": {},
   "source": [
    "### Visualización de la distribución de los pesos y visibilidad de los productos"
   ]
  },
  {
   "cell_type": "code",
   "execution_count": 699,
   "id": "considerable-parks",
   "metadata": {},
   "outputs": [
    {
     "data": {
      "image/png": "[encoded data removed]",
      "text/plain": [
       "<Figure size 432x288 with 1 Axes>"
      ]
     },
     "metadata": {
      "needs_background": "light"
     },
     "output_type": "display_data"
    },
    {
     "data": {
      "image/png": "[encoded data removed]",
      "text/plain": [
       "<Figure size 432x288 with 1 Axes>"
      ]
     },
     "metadata": {
      "needs_background": "light"
     },
     "output_type": "display_data"
    }
   ],
   "source": [
    "lista=[\"Item_Weight\",\"Item_Visibility\"]\n",
    "lista2=[\"Peso de los productos\",\"Visibilidad de los productos\"]\n",
    "for i in range(len(lista)):\n",
    "    plt.hist(df[lista[i]], color=\"grey\")\n",
    "    plt.title(lista[i], fontsize=15)\n",
    "    plt.ylabel(\"Conteo\", fontsize=10)\n",
    "    plt.xlabel(lista2[i],fontsize=10)\n",
    "  \n",
    "    plt.show()"
   ]
  },
  {
   "cell_type": "markdown",
   "id": "adult-lithuania",
   "metadata": {},
   "source": [
    "## Distribución de los productos por grasa"
   ]
  },
  {
   "cell_type": "code",
   "execution_count": 700,
   "id": "destroyed-brick",
   "metadata": {},
   "outputs": [
    {
     "data": {
      "image/png": "[encoded data removed]",
      "text/plain": [
       "<Figure size 576x864 with 1 Axes>"
      ]
     },
     "metadata": {},
     "output_type": "display_data"
    }
   ],
   "source": [
    "circular=pd.DataFrame(df[\"Item_Fat_Content\"].value_counts())\n",
    "colors = sbn.color_palette('bright')\n",
    "explode = [0.3,0.02]\n",
    "plt.figure(figsize=[8,12])\n",
    "plt.pie(circular[\"Item_Fat_Content\"], colors = colors, autopct = '%0.0f%%',explode = explode, labels=list(circular.index)\n",
    "        ,shadow = 'True',rotatelabels = 'true',center = (0.1,0.4),startangle=40)\n",
    "plt.title(\"% de producto dependiendo de su cantidad de grasa\", fontsize=16)\n",
    "plt.show()"
   ]
  },
  {
   "cell_type": "markdown",
   "id": "initial-france",
   "metadata": {},
   "source": [
    "## Cantidad de venta por año y tienda"
   ]
  },
  {
   "cell_type": "code",
   "execution_count": 701,
   "id": "legal-challenge",
   "metadata": {},
   "outputs": [
    {
     "data": {
      "text/html": [
       "<div>\n",
       "<style scoped>\n",
       "    .dataframe tbody tr th:only-of-type {\n",
       "        vertical-align: middle;\n",
       "    }\n",
       "\n",
       "    .dataframe tbody tr th {\n",
       "        vertical-align: top;\n",
       "    }\n",
       "\n",
       "    .dataframe thead th {\n",
       "        text-align: right;\n",
       "    }\n",
       "</style>\n",
       "<table border=\"1\" class=\"dataframe\">\n",
       "  <thead>\n",
       "    <tr style=\"text-align: right;\">\n",
       "      <th></th>\n",
       "      <th>Item_Outlet_Sales</th>\n",
       "    </tr>\n",
       "    <tr>\n",
       "      <th>Outlet_Identifier</th>\n",
       "      <th></th>\n",
       "    </tr>\n",
       "  </thead>\n",
       "  <tbody>\n",
       "    <tr>\n",
       "      <th>OUT010</th>\n",
       "      <td>1.883402e+05</td>\n",
       "    </tr>\n",
       "    <tr>\n",
       "      <th>OUT013</th>\n",
       "      <td>2.142664e+06</td>\n",
       "    </tr>\n",
       "    <tr>\n",
       "      <th>OUT017</th>\n",
       "      <td>2.167465e+06</td>\n",
       "    </tr>\n",
       "    <tr>\n",
       "      <th>OUT018</th>\n",
       "      <td>1.851823e+06</td>\n",
       "    </tr>\n",
       "    <tr>\n",
       "      <th>OUT019</th>\n",
       "      <td>1.795736e+05</td>\n",
       "    </tr>\n",
       "    <tr>\n",
       "      <th>OUT027</th>\n",
       "      <td>3.444468e+06</td>\n",
       "    </tr>\n",
       "    <tr>\n",
       "      <th>OUT035</th>\n",
       "      <td>2.268123e+06</td>\n",
       "    </tr>\n",
       "    <tr>\n",
       "      <th>OUT045</th>\n",
       "      <td>2.036725e+06</td>\n",
       "    </tr>\n",
       "    <tr>\n",
       "      <th>OUT046</th>\n",
       "      <td>2.118395e+06</td>\n",
       "    </tr>\n",
       "    <tr>\n",
       "      <th>OUT049</th>\n",
       "      <td>2.183970e+06</td>\n",
       "    </tr>\n",
       "  </tbody>\n",
       "</table>\n",
       "</div>"
      ],
      "text/plain": [
       "                   Item_Outlet_Sales\n",
       "Outlet_Identifier                   \n",
       "OUT010                  1.883402e+05\n",
       "OUT013                  2.142664e+06\n",
       "OUT017                  2.167465e+06\n",
       "OUT018                  1.851823e+06\n",
       "OUT019                  1.795736e+05\n",
       "OUT027                  3.444468e+06\n",
       "OUT035                  2.268123e+06\n",
       "OUT045                  2.036725e+06\n",
       "OUT046                  2.118395e+06\n",
       "OUT049                  2.183970e+06"
      ]
     },
     "execution_count": 701,
     "metadata": {},
     "output_type": "execute_result"
    }
   ],
   "source": [
    "barras=pd.DataFrame(df.groupby([\"Outlet_Identifier\"])[\"Item_Outlet_Sales\"].sum())\n",
    "barras"
   ]
  },
  {
   "cell_type": "markdown",
   "id": "casual-valuable",
   "metadata": {},
   "source": [
    "#### Obtengo la lista de colores"
   ]
  },
  {
   "cell_type": "code",
   "execution_count": 702,
   "id": "christian-baseball",
   "metadata": {},
   "outputs": [],
   "source": [
    "import matplotlib\n",
    "listacolores=[]\n",
    "for cname, hex in matplotlib.colors.cnames.items():\n",
    "    listacolores.append(cname)\n"
   ]
  },
  {
   "cell_type": "code",
   "execution_count": 703,
   "id": "verbal-commander",
   "metadata": {
    "scrolled": true
   },
   "outputs": [
    {
     "data": {
      "image/png": "[encoded data removed]",
      "text/plain": [
       "<Figure size 432x288 with 1 Axes>"
      ]
     },
     "metadata": {
      "needs_background": "light"
     },
     "output_type": "display_data"
    }
   ],
   "source": [
    "sbn.barplot(y=barras[\"Item_Outlet_Sales\"],x=barras.index, palette=listacolores[71:81])\n",
    "plt.xticks(rotation=45);\n",
    "plt.title(\"Empresas que mas vendieron\")\n",
    "plt.ylabel(\"Cantidad de ventas\")\n",
    "plt.ticklabel_format(axis='y',useOffset=False)\n"
   ]
  },
  {
   "cell_type": "code",
   "execution_count": 704,
   "id": "regulation-sense",
   "metadata": {
    "scrolled": true
   },
   "outputs": [
    {
     "data": {
      "image/png": "[encoded data removed]",
      "text/plain": [
       "<Figure size 432x288 with 1 Axes>"
      ]
     },
     "metadata": {
      "needs_background": "light"
     },
     "output_type": "display_data"
    }
   ],
   "source": [
    "from datetime import datetime\n",
    "años=df[['Outlet_Identifier',\"Outlet_Establishment_Year\"]].drop_duplicates()\n",
    "años[\"Outlet_Establishment_Year\"]=datetime.now().year-años[\"Outlet_Establishment_Year\"]\n",
    "años=años.sort_values(\"Outlet_Identifier\")\n",
    "sbn.barplot(y=años[\"Outlet_Establishment_Year\"],x=años[\"Outlet_Identifier\"],palette=listacolores[71:81])\n",
    "plt.xticks(rotation=45);\n",
    "plt.title(\"Cantidad de años por empresa\")\n",
    "plt.ylabel(\"años\")\n",
    "plt.ticklabel_format(axis='y',useOffset=False, style=\"plain\")"
   ]
  },
  {
   "cell_type": "code",
   "execution_count": 705,
   "id": "81af3019",
   "metadata": {
    "scrolled": false
   },
   "outputs": [
    {
     "data": {
      "image/png": "[encoded data removed]",
      "text/plain": [
       "<Figure size 1296x720 with 2 Axes>"
      ]
     },
     "metadata": {
      "needs_background": "light"
     },
     "output_type": "display_data"
    }
   ],
   "source": [
    "circular=pd.DataFrame(df[\"Outlet_Type\"].value_counts())\n",
    "colors = sbn.color_palette(\"pastel\")\n",
    "explode = [0.3,0.02,0.02,0.02]\n",
    "\n",
    "fig, axes = plt.subplots(1, 2, figsize=(18, 10))\n",
    "\n",
    "\n",
    "axes[0].pie(circular[\"Outlet_Type\"], colors = colors, autopct = '%0.0f%%',explode = explode, labels=list(circular.index)\n",
    "        ,shadow = 'True',rotatelabels = 'true',center = (0.1,0.4),startangle=90 );\n",
    "sbn.barplot( ax=axes[1],x=tipotienda['Outlet_Type'], y=tipotienda['Item_Outlet_Sales'], orient=\"v\",palette=\"pastel\")\n",
    "axes[1].yaxis.get_major_formatter().set_scientific(False)\n",
    "axes[1].set_title(\"Ventas\");\n",
    "\n"
   ]
  },
  {
   "cell_type": "markdown",
   "id": "4748434e",
   "metadata": {},
   "source": [
    "\n",
    "## Pormedio de venta por productos"
   ]
  },
  {
   "cell_type": "code",
   "execution_count": 706,
   "id": "92c4ac84",
   "metadata": {
    "scrolled": false
   },
   "outputs": [
    {
     "data": {
      "image/png": "[encoded data removed]",
      "text/plain": [
       "<Figure size 864x432 with 1 Axes>"
      ]
     },
     "metadata": {
      "needs_background": "light"
     },
     "output_type": "display_data"
    }
   ],
   "source": [
    "pd.DataFrame(df.groupby(\"Item_Type\").mean()[\"Item_Outlet_Sales\"]).plot(kind='bar', \n",
    "                    stacked=True,          \n",
    "                    colormap= 'tab20',\n",
    "                    figsize=(12, 6),mark_right = True,\n",
    "                    legend=True, width=0.90 )\n",
    "plt.title(\"Ventas por producto\", fontsize=15)\n",
    "plt.ylabel(\"Proemdio de ventas\",fontsize=15)\n",
    "plt.xlabel(\"Tipo de producto\",fontsize=15)\n",
    "plt.xticks(rotation=60)\n",
    "plt.tight_layout()\n",
    "plt.show();\n"
   ]
  },
  {
   "cell_type": "markdown",
   "id": "turned-vertex",
   "metadata": {},
   "source": [
    "## Parte 4"
   ]
  },
  {
   "cell_type": "code",
   "execution_count": 707,
   "id": "characteristic-notification",
   "metadata": {},
   "outputs": [
    {
     "data": {
      "image/png": "[encoded data removed]",
      "text/plain": [
       "<Figure size 1152x576 with 5 Axes>"
      ]
     },
     "metadata": {
      "needs_background": "light"
     },
     "output_type": "display_data"
    }
   ],
   "source": [
    "import random\n",
    "fig, axes = plt.subplots(2, 3, sharex=False,sharey=False, figsize=(16,8))\n",
    "fig.suptitle('Comportamiento de las variables numericas')\n",
    "\n",
    "columna1=list(df.describe().columns)\n",
    "\n",
    "p=0\n",
    "for i in range(int(len(columna1)/2)):\n",
    "    for y in range(int(len(columna1)/2)+1):\n",
    "        plt.subplot(2,3,p+1)\n",
    "        sbn.histplot(x=df[columna1[p]], color=random.choice(listacolores))\n",
    "        plt.title(columna1[p])\n",
    "        plt.subplots_adjust(left=0.125,\n",
    "                    bottom=0.1, \n",
    "                    right=0.9, \n",
    "                    top=0.9, \n",
    "                    wspace=0.2, \n",
    "                    hspace=0.35)\n",
    "        p+=1\n",
    "        if p==5:\n",
    "          \n",
    "            break\n",
    "    if p==5:\n",
    "\n",
    "        break\n",
    "ax2 = plt.subplot(236, frameon=True)\n",
    "plt.delaxes(ax2) \n",
    "\n",
    "plt.show()"
   ]
  },
  {
   "cell_type": "code",
   "execution_count": 708,
   "id": "comparable-resort",
   "metadata": {},
   "outputs": [
    {
     "data": {
      "image/png": "[encoded data removed]",
      "text/plain": [
       "<Figure size 1152x576 with 5 Axes>"
      ]
     },
     "metadata": {
      "needs_background": "light"
     },
     "output_type": "display_data"
    }
   ],
   "source": [
    "import random\n",
    "\n",
    "fig, axes = plt.subplots(2, 3, sharex=False,sharey=False, figsize=(16,8))\n",
    "fig.suptitle('Comportamiento de las variables numericas')\n",
    "\n",
    "columna1=list(df.describe(include=object).iloc[:,1:].columns)\n",
    "\n",
    "p=0\n",
    "for i in range(int(len(columna1)/2)):\n",
    "    for y in range(int(len(columna1)/2)+1):\n",
    "        plt.subplot(2,3,p+1)\n",
    "        sbn.histplot(x=df[columna1[p]],color=random.choice(listacolores) )\n",
    "        plt.title(columna1[p])\n",
    "        plt.subplots_adjust(left=0.125,\n",
    "                    bottom=0.1, \n",
    "                    right=0.9, \n",
    "                    top=0.9, \n",
    "                    wspace=0.2, \n",
    "                    hspace=0.35)\n",
    "        plt.xticks(rotation=75)\n",
    "        p+=1\n",
    "        if p==5:\n",
    "          \n",
    "            break\n",
    "    if p==5:\n",
    "\n",
    "        break\n",
    "ax2 = plt.subplot(236, frameon=True)\n",
    "plt.delaxes(ax2) \n",
    "plt.tight_layout()\n",
    "\n",
    "plt.show()"
   ]
  },
  {
   "cell_type": "code",
   "execution_count": 709,
   "id": "three-carrier",
   "metadata": {},
   "outputs": [
    {
     "data": {
      "image/png": "[encoded data removed]",
      "text/plain": [
       "<Figure size 1152x576 with 5 Axes>"
      ]
     },
     "metadata": {
      "needs_background": "light"
     },
     "output_type": "display_data"
    }
   ],
   "source": [
    "fig, axes = plt.subplots(2, 3, sharex=False,sharey=False, figsize=(16,8))\n",
    "fig.suptitle('Comportamiento de las variables numericas')\n",
    "\n",
    "columna1=list(df.describe().columns)\n",
    "\n",
    "p=0\n",
    "for i in range(int(len(columna1)/2)):\n",
    "    for y in range(int(len(columna1)/2)+1):\n",
    "        plt.subplot(2,3,p+1)\n",
    "        sbn.boxplot(x=df[columna1[p]],color=random.choice(listacolores))\n",
    "        plt.title(columna1[p])\n",
    "        plt.subplots_adjust(left=0.125,\n",
    "                    bottom=0.1, \n",
    "                    right=0.9, \n",
    "                    top=0.9, \n",
    "                    wspace=0.2, \n",
    "                    hspace=0.35)\n",
    "        p+=1\n",
    "        if p==5:\n",
    "          \n",
    "            break\n",
    "    if p==5:\n",
    "\n",
    "        break\n",
    "ax2 = plt.subplot(236, frameon=True)\n",
    "plt.delaxes(ax2) \n",
    "\n",
    "plt.show()"
   ]
  },
  {
   "cell_type": "code",
   "execution_count": 710,
   "id": "sharing-football",
   "metadata": {},
   "outputs": [
    {
     "data": {
      "image/png": "[encoded data removed]",
      "text/plain": [
       "<Figure size 1008x720 with 2 Axes>"
      ]
     },
     "metadata": {
      "needs_background": "light"
     },
     "output_type": "display_data"
    }
   ],
   "source": [
    "colormap = plt.cm.RdBu\n",
    "plt.figure(figsize=(14,10))\n",
    "plt.title('Correlación', y=1.05, size=25,)\n",
    "sbn.heatmap(df.corr(),linewidths=0.5,vmin=-1,\n",
    "             cmap=colormap, linecolor='white', annot=True,fmt='.2f',annot_kws={'size': 15})\n",
    "plt.xticks(rotation=60)\n",
    "plt.yticks(fontsize=12)\n",
    "plt.xticks(fontsize=12)\n",
    "plt.show()"
   ]
  },
  {
   "cell_type": "markdown",
   "id": "million-nebraska",
   "metadata": {},
   "source": [
    "### Histograma de variables categoricas sin el identificador"
   ]
  },
  {
   "cell_type": "code",
   "execution_count": 711,
   "id": "manufactured-breakdown",
   "metadata": {},
   "outputs": [],
   "source": [
    "colores=('Dark', 'Accent', 'Accent_r', 'Blues', 'Blues_r', 'BrBG', 'BrBG_r', 'BuGn', 'BuGn_r', 'BuPu', 'BuPu_r', 'CMRmap', 'CMRmap_r', 'Dark2', 'Dark2_r', 'GnBu', 'GnBu_r', 'Greens', 'Greens_r', 'Greys', 'Greys_r', 'OrRd', 'OrRd_r', 'Oranges', 'Oranges_r', 'PRGn', 'PRGn_r', 'Paired', 'Paired_r', 'Pastel1', 'Pastel1_r', 'Pastel2', 'Pastel2_r', 'PiYG', 'PiYG_r', 'PuBu', 'PuBuGn', 'PuBuGn_r', 'PuBu_r', 'PuOr', 'PuOr_r', 'PuRd', 'PuRd_r', 'Purples', 'Purples_r', 'RdBu', 'RdBu_r', 'RdGy', 'RdGy_r', 'RdPu', 'RdPu_r')"
   ]
  },
  {
   "cell_type": "markdown",
   "id": "44411649",
   "metadata": {},
   "source": [
    "# Parte 5 - Prediccciones de venta"
   ]
  },
  {
   "cell_type": "markdown",
   "id": "a77d19b1",
   "metadata": {},
   "source": [
    "###  5.1 Tranformar de variables categoria a numericas"
   ]
  },
  {
   "cell_type": "code",
   "execution_count": 712,
   "id": "ce1f7216",
   "metadata": {
    "scrolled": true
   },
   "outputs": [
    {
     "data": {
      "text/plain": [
       "Item_Identifier              1555\n",
       "Item_Weight                   415\n",
       "Item_Fat_Content                2\n",
       "Item_Visibility              7876\n",
       "Item_Type                      16\n",
       "Item_MRP                     5936\n",
       "Outlet_Identifier              10\n",
       "Outlet_Establishment_Year       9\n",
       "Outlet_Size                     3\n",
       "Outlet_Location_Type            3\n",
       "Outlet_Type                     4\n",
       "Item_Outlet_Sales            3493\n",
       "Outlet_Size2                    4\n",
       "dtype: int64"
      ]
     },
     "execution_count": 712,
     "metadata": {},
     "output_type": "execute_result"
    }
   ],
   "source": [
    "df.nunique()"
   ]
  },
  {
   "cell_type": "code",
   "execution_count": 713,
   "id": "e6245bdb",
   "metadata": {
    "scrolled": true
   },
   "outputs": [
    {
     "name": "stderr",
     "output_type": "stream",
     "text": [
      "C:\\Users\\crist\\AppData\\Local\\Temp/ipykernel_11412/2206724716.py:3: SettingWithCopyWarning: \n",
      "A value is trying to be set on a copy of a slice from a DataFrame.\n",
      "Try using .loc[row_indexer,col_indexer] = value instead\n",
      "\n",
      "See the caveats in the documentation: https://pandas.pydata.org/pandas-docs/stable/user_guide/indexing.html#returning-a-view-versus-a-copy\n",
      "  df['Item_Fat_Content'] = df['Item_Fat_Content'].map(grasa)\n"
     ]
    }
   ],
   "source": [
    "grasa = { 'Low Fat' : 0, \n",
    "                  'Regular' : 1}\n",
    "df['Item_Fat_Content'] = df['Item_Fat_Content'].map(grasa)\n"
   ]
  },
  {
   "cell_type": "code",
   "execution_count": 714,
   "id": "826c2cb3",
   "metadata": {
    "scrolled": false
   },
   "outputs": [
    {
     "name": "stderr",
     "output_type": "stream",
     "text": [
      "C:\\Users\\crist\\AppData\\Local\\Temp/ipykernel_11412/3566551263.py:4: SettingWithCopyWarning: \n",
      "A value is trying to be set on a copy of a slice from a DataFrame.\n",
      "Try using .loc[row_indexer,col_indexer] = value instead\n",
      "\n",
      "See the caveats in the documentation: https://pandas.pydata.org/pandas-docs/stable/user_guide/indexing.html#returning-a-view-versus-a-copy\n",
      "  df[\"Outlet_Location_Type\"] = df[\"Outlet_Location_Type\"].map(locacion)\n"
     ]
    }
   ],
   "source": [
    "locacion = { 'Tier 1' : 0, \n",
    "            'Tier 2' : 1,\n",
    "           'Tier 3':2}\n",
    "df[\"Outlet_Location_Type\"] = df[\"Outlet_Location_Type\"].map(locacion)\n"
   ]
  },
  {
   "cell_type": "code",
   "execution_count": 715,
   "id": "3c498c1f",
   "metadata": {
    "scrolled": false
   },
   "outputs": [
    {
     "name": "stderr",
     "output_type": "stream",
     "text": [
      "C:\\Users\\crist\\AppData\\Local\\Temp/ipykernel_11412/1327677827.py:5: SettingWithCopyWarning: \n",
      "A value is trying to be set on a copy of a slice from a DataFrame.\n",
      "Try using .loc[row_indexer,col_indexer] = value instead\n",
      "\n",
      "See the caveats in the documentation: https://pandas.pydata.org/pandas-docs/stable/user_guide/indexing.html#returning-a-view-versus-a-copy\n",
      "  df[\"Outlet_Type\"] = df[\"Outlet_Type\"].map(tipo)\n"
     ]
    }
   ],
   "source": [
    "tipo = { 'Grocery Store' : 0, \n",
    "            'Supermarket Type1' : 1,\n",
    "           'Supermarket Type2':2,\n",
    "           'Supermarket Type3':4}\n",
    "df[\"Outlet_Type\"] = df[\"Outlet_Type\"].map(tipo)\n"
   ]
  },
  {
   "cell_type": "code",
   "execution_count": 716,
   "id": "8250e611",
   "metadata": {
    "scrolled": false
   },
   "outputs": [
    {
     "name": "stderr",
     "output_type": "stream",
     "text": [
      "C:\\Users\\crist\\AppData\\Local\\Temp/ipykernel_11412/3837954333.py:4: SettingWithCopyWarning: \n",
      "A value is trying to be set on a copy of a slice from a DataFrame.\n",
      "Try using .loc[row_indexer,col_indexer] = value instead\n",
      "\n",
      "See the caveats in the documentation: https://pandas.pydata.org/pandas-docs/stable/user_guide/indexing.html#returning-a-view-versus-a-copy\n",
      "  df[\"Outlet_Size2\"] = df[\"Outlet_Size\"].map(tipo)\n"
     ]
    }
   ],
   "source": [
    "tipo = { 'Small' : 0, \n",
    "            'Medium' : 1,\n",
    "           'High':2}\n",
    "df[\"Outlet_Size2\"] = df[\"Outlet_Size\"].map(tipo)\n"
   ]
  },
  {
   "cell_type": "markdown",
   "id": "d616d96d",
   "metadata": {},
   "source": [
    "# 5.2 Definir Matriz\n",
    "Solo eligo las variables numericas, el id lo saco, al igual que el tipo de item y el identificador de la tienda"
   ]
  },
  {
   "cell_type": "code",
   "execution_count": 717,
   "id": "6141c93b",
   "metadata": {},
   "outputs": [],
   "source": [
    "from sklearn.linear_model import LinearRegression\n",
    "from sklearn.neighbors import KNeighborsRegressor\n",
    "\n",
    "from sklearn.model_selection import train_test_split\n",
    "\n",
    "from sklearn import metrics\n",
    "from sklearn.preprocessing import StandardScaler\n",
    "from sklearn.model_selection import GridSearchCV"
   ]
  },
  {
   "cell_type": "code",
   "execution_count": 718,
   "id": "70906014",
   "metadata": {},
   "outputs": [],
   "source": [
    "x=df[df.columns.difference([\"Item_Outlet_Sales\",'Item_Identifier','Item_Type','Outlet_Identifier','Outlet_Size'])].values\n",
    "y=df[\"Item_Outlet_Sales\"].values"
   ]
  },
  {
   "cell_type": "markdown",
   "id": "d9bbe99e",
   "metadata": {},
   "source": [
    "## 5.3 Divido la data 70% y 30%"
   ]
  },
  {
   "cell_type": "code",
   "execution_count": 719,
   "id": "17646176",
   "metadata": {},
   "outputs": [],
   "source": [
    "X_train, X_val, y_train, y_val = train_test_split(x, y,test_size=0.3)\n",
    "X_val, X_test, y_val, y_test = train_test_split(X_val, y_val,test_size=0.5)\n"
   ]
  },
  {
   "cell_type": "markdown",
   "id": "2c1b5ccd",
   "metadata": {},
   "source": [
    "## 5.4 escalo"
   ]
  },
  {
   "cell_type": "code",
   "execution_count": 720,
   "id": "3d699a21",
   "metadata": {
    "scrolled": true
   },
   "outputs": [],
   "source": [
    "scaler = StandardScaler()\n",
    "scaler.fit(X_train)\n",
    "X_train = scaler.transform(X_train)\n",
    "X_test = scaler.transform(X_test)\n",
    "X_val=scaler.transform(X_val)"
   ]
  },
  {
   "cell_type": "markdown",
   "id": "de8a2f69",
   "metadata": {},
   "source": [
    "## 5.5 Creo los modelos"
   ]
  },
  {
   "cell_type": "code",
   "execution_count": 721,
   "id": "4ef2945b",
   "metadata": {},
   "outputs": [
    {
     "name": "stdout",
     "output_type": "stream",
     "text": [
      "Accuracy 0.5368404318892788\n"
     ]
    }
   ],
   "source": [
    "reg=LinearRegression()\n",
    "reg.fit(X_train, y_train)\n",
    "print('Accuracy', reg.score(X_val, y_val))"
   ]
  },
  {
   "cell_type": "code",
   "execution_count": 722,
   "id": "f704f52d",
   "metadata": {},
   "outputs": [
    {
     "name": "stdout",
     "output_type": "stream",
     "text": [
      "Accuracy 0.5123711858255589\n"
     ]
    }
   ],
   "source": [
    "knn = KNeighborsRegressor(n_neighbors=3)\n",
    "knn.fit(X_train, y_train) \n",
    "print('Accuracy', knn.score(X_val, y_val))\n"
   ]
  },
  {
   "cell_type": "markdown",
   "id": "cbb0a08c",
   "metadata": {},
   "source": [
    "## 5.6 Optimizacion"
   ]
  },
  {
   "cell_type": "markdown",
   "id": "77973897",
   "metadata": {},
   "source": [
    "### 5.6.1 Optimizacion regresion lineal"
   ]
  },
  {
   "cell_type": "code",
   "execution_count": 723,
   "id": "b08ef73c",
   "metadata": {},
   "outputs": [
    {
     "data": {
      "text/plain": [
       "GridSearchCV(cv=5, estimator=LinearRegression(),\n",
       "             param_grid=[{'copy_X': [True, False],\n",
       "                          'fit_intercept': [True, False],\n",
       "                          'normalize': [True, False]}],\n",
       "             return_train_score=True)"
      ]
     },
     "execution_count": 723,
     "metadata": {},
     "output_type": "execute_result"
    }
   ],
   "source": [
    "param_grid = [{'fit_intercept':[True,False],\n",
    "               'normalize':[True,False],\n",
    "               'copy_X':[True,False]\n",
    "              }]\n",
    "\n",
    "reg = LinearRegression()\n",
    "grid_search = GridSearchCV(reg, param_grid, cv=5,\n",
    "                          return_train_score=True)\n",
    "\n",
    "grid_search.fit(X_train, y_train)"
   ]
  },
  {
   "cell_type": "code",
   "execution_count": 724,
   "id": "de7122a4",
   "metadata": {},
   "outputs": [
    {
     "name": "stdout",
     "output_type": "stream",
     "text": [
      "[ 0.49027722  0.49027722 -1.15859679 -1.15859679  0.49027722  0.49027722\n",
      " -1.15859679 -1.15859679] [{'copy_X': True, 'fit_intercept': True, 'normalize': True}, {'copy_X': True, 'fit_intercept': True, 'normalize': False}, {'copy_X': True, 'fit_intercept': False, 'normalize': True}, {'copy_X': True, 'fit_intercept': False, 'normalize': False}, {'copy_X': False, 'fit_intercept': True, 'normalize': True}, {'copy_X': False, 'fit_intercept': True, 'normalize': False}, {'copy_X': False, 'fit_intercept': False, 'normalize': True}, {'copy_X': False, 'fit_intercept': False, 'normalize': False}]\n"
     ]
    }
   ],
   "source": [
    "cvres = grid_search.cv_results_\n",
    "print(cvres['mean_test_score'], cvres['params'])"
   ]
  },
  {
   "cell_type": "code",
   "execution_count": 725,
   "id": "bec74bdd",
   "metadata": {},
   "outputs": [
    {
     "name": "stdout",
     "output_type": "stream",
     "text": [
      "{'copy_X': True, 'fit_intercept': True, 'normalize': True} 0.4902772211865784\n"
     ]
    }
   ],
   "source": [
    "cvres1 = grid_search.best_params_\n",
    "cvres2 = grid_search.best_score_\n",
    "print(cvres1,cvres2)"
   ]
  },
  {
   "cell_type": "markdown",
   "id": "dd131974",
   "metadata": {},
   "source": [
    "### 5.6.2 Optimizacion vecino cercano "
   ]
  },
  {
   "cell_type": "code",
   "execution_count": 726,
   "id": "c9ba9bc2",
   "metadata": {},
   "outputs": [
    {
     "data": {
      "text/plain": [
       "GridSearchCV(cv=5, estimator=KNeighborsRegressor(),\n",
       "             param_grid=[{'n_neighbors': [1, 2, 3, 4, 5, 6, 7, 8, 9, 10, 11, 12,\n",
       "                                          13, 14, 15, 16, 17, 18, 19, 20, 21,\n",
       "                                          22, 23, 24, 25, 26, 27, 28, 29, 30, ...]}],\n",
       "             return_train_score=True)"
      ]
     },
     "execution_count": 726,
     "metadata": {},
     "output_type": "execute_result"
    }
   ],
   "source": [
    "param_grid = [{'n_neighbors':list(np.arange(1,50))\n",
    "              }]\n",
    "\n",
    "reg = KNeighborsRegressor()\n",
    "\n",
    "grid_search = GridSearchCV(reg, param_grid, cv=5,\n",
    "                          return_train_score=True)\n",
    "\n",
    "grid_search.fit(X_train, y_train)"
   ]
  },
  {
   "cell_type": "code",
   "execution_count": 727,
   "id": "a7d58db8",
   "metadata": {},
   "outputs": [
    {
     "name": "stdout",
     "output_type": "stream",
     "text": [
      "[0.19495923 0.38852248 0.46105878 0.49763815 0.51808191 0.53059071\n",
      " 0.54222262 0.55016184 0.55162968 0.55545603 0.55921352 0.5631867\n",
      " 0.5650428  0.56450144 0.56699586 0.56742854 0.56880916 0.56951582\n",
      " 0.57031906 0.57178515 0.57121037 0.57159364 0.57226179 0.57319948\n",
      " 0.57296556 0.57215331 0.57179234 0.571914   0.57118485 0.57090518\n",
      " 0.56952741 0.56843966 0.56805837 0.56716977 0.56688737 0.56684913\n",
      " 0.56634031 0.56613715 0.56559939 0.56505389 0.5642824  0.56400947\n",
      " 0.5636402  0.56331937 0.56251937 0.56149851 0.5611839  0.56027845\n",
      " 0.56013161] [{'n_neighbors': 1}, {'n_neighbors': 2}, {'n_neighbors': 3}, {'n_neighbors': 4}, {'n_neighbors': 5}, {'n_neighbors': 6}, {'n_neighbors': 7}, {'n_neighbors': 8}, {'n_neighbors': 9}, {'n_neighbors': 10}, {'n_neighbors': 11}, {'n_neighbors': 12}, {'n_neighbors': 13}, {'n_neighbors': 14}, {'n_neighbors': 15}, {'n_neighbors': 16}, {'n_neighbors': 17}, {'n_neighbors': 18}, {'n_neighbors': 19}, {'n_neighbors': 20}, {'n_neighbors': 21}, {'n_neighbors': 22}, {'n_neighbors': 23}, {'n_neighbors': 24}, {'n_neighbors': 25}, {'n_neighbors': 26}, {'n_neighbors': 27}, {'n_neighbors': 28}, {'n_neighbors': 29}, {'n_neighbors': 30}, {'n_neighbors': 31}, {'n_neighbors': 32}, {'n_neighbors': 33}, {'n_neighbors': 34}, {'n_neighbors': 35}, {'n_neighbors': 36}, {'n_neighbors': 37}, {'n_neighbors': 38}, {'n_neighbors': 39}, {'n_neighbors': 40}, {'n_neighbors': 41}, {'n_neighbors': 42}, {'n_neighbors': 43}, {'n_neighbors': 44}, {'n_neighbors': 45}, {'n_neighbors': 46}, {'n_neighbors': 47}, {'n_neighbors': 48}, {'n_neighbors': 49}]\n"
     ]
    }
   ],
   "source": [
    "cvres = grid_search.cv_results_\n",
    "print(cvres['mean_test_score'], cvres['params'])"
   ]
  },
  {
   "cell_type": "code",
   "execution_count": 728,
   "id": "b6edbbcc",
   "metadata": {},
   "outputs": [
    {
     "name": "stdout",
     "output_type": "stream",
     "text": [
      "{'n_neighbors': 24} 0.5731994840773688\n"
     ]
    }
   ],
   "source": [
    "cvres1 = grid_search.best_params_\n",
    "cvres2 = grid_search.best_score_\n",
    "print(cvres1,cvres2)"
   ]
  },
  {
   "cell_type": "code",
   "execution_count": 729,
   "id": "24725a28",
   "metadata": {},
   "outputs": [
    {
     "data": {
      "image/png": "[encoded data removed]",
      "text/plain": [
       "<Figure size 432x288 with 1 Axes>"
      ]
     },
     "metadata": {
      "needs_background": "light"
     },
     "output_type": "display_data"
    }
   ],
   "source": [
    "plt.plot(list(np.arange(1,50)), list(cvres['mean_test_score']));\n",
    "plt.title(\"Grafico de precision\")\n",
    "plt.xlabel(\"Numero de vecino\")\n",
    "plt.ylabel(\"Acurracy\");"
   ]
  },
  {
   "cell_type": "markdown",
   "id": "513cfa60",
   "metadata": {},
   "source": [
    "## 5.7 Evaluamos el modelo"
   ]
  },
  {
   "cell_type": "markdown",
   "id": "ae302916",
   "metadata": {},
   "source": [
    "### 5.7.1 Modelo regresion lineal"
   ]
  },
  {
   "cell_type": "code",
   "execution_count": 730,
   "id": "4094981f",
   "metadata": {},
   "outputs": [
    {
     "name": "stdout",
     "output_type": "stream",
     "text": [
      "Accuracy 0.5368404318892788\n"
     ]
    }
   ],
   "source": [
    "reg = LinearRegression(copy_X=True, fit_intercept= True, normalize= False)\n",
    "reg.fit(X_train, y_train)\n",
    "print('Accuracy', reg.score(X_val, y_val))"
   ]
  },
  {
   "cell_type": "code",
   "execution_count": 731,
   "id": "a04f6f66",
   "metadata": {},
   "outputs": [],
   "source": [
    "validacion_reg=reg.predict(X_test)"
   ]
  },
  {
   "cell_type": "code",
   "execution_count": 732,
   "id": "2a0b842f",
   "metadata": {},
   "outputs": [
    {
     "name": "stdout",
     "output_type": "stream",
     "text": [
      "0.46674780928907345\n"
     ]
    }
   ],
   "source": [
    "print(metrics.r2_score(y_test, validacion_reg))"
   ]
  },
  {
   "cell_type": "markdown",
   "id": "9fa6e06b",
   "metadata": {},
   "source": [
    "### 5.7.2 Modelo de vecino cercano"
   ]
  },
  {
   "cell_type": "code",
   "execution_count": 743,
   "id": "6ecec727",
   "metadata": {},
   "outputs": [
    {
     "name": "stdout",
     "output_type": "stream",
     "text": [
      "Accuracy 0.5222519917659663\n"
     ]
    }
   ],
   "source": [
    "knn = KNeighborsRegressor(n_neighbors=24)\n",
    "knn.fit(X_train, y_train)\n",
    "print('Accuracy', knn.score(X_val, y_val))"
   ]
  },
  {
   "cell_type": "code",
   "execution_count": 744,
   "id": "b5ccfec0",
   "metadata": {},
   "outputs": [],
   "source": [
    "validacion_reg=knn.predict(X_test)"
   ]
  },
  {
   "cell_type": "code",
   "execution_count": 745,
   "id": "85514cb0",
   "metadata": {},
   "outputs": [
    {
     "name": "stdout",
     "output_type": "stream",
     "text": [
      "0.5560229948221486\n"
     ]
    }
   ],
   "source": [
    "print(metrics.r2_score(y_test, validacion_reg))"
   ]
  },
  {
   "cell_type": "code",
   "execution_count": 747,
   "id": "e08b6252",
   "metadata": {},
   "outputs": [
    {
     "data": {
      "text/html": [
       "<div>\n",
       "<style scoped>\n",
       "    .dataframe tbody tr th:only-of-type {\n",
       "        vertical-align: middle;\n",
       "    }\n",
       "\n",
       "    .dataframe tbody tr th {\n",
       "        vertical-align: top;\n",
       "    }\n",
       "\n",
       "    .dataframe thead th {\n",
       "        text-align: right;\n",
       "    }\n",
       "</style>\n",
       "<table border=\"1\" class=\"dataframe\">\n",
       "  <thead>\n",
       "    <tr style=\"text-align: right;\">\n",
       "      <th></th>\n",
       "      <th>Item_Identifier</th>\n",
       "      <th>Item_Weight</th>\n",
       "      <th>Item_Fat_Content</th>\n",
       "      <th>Item_Visibility</th>\n",
       "      <th>Item_Type</th>\n",
       "      <th>Item_MRP</th>\n",
       "      <th>Outlet_Identifier</th>\n",
       "      <th>Outlet_Establishment_Year</th>\n",
       "      <th>Outlet_Size</th>\n",
       "      <th>Outlet_Location_Type</th>\n",
       "      <th>Outlet_Type</th>\n",
       "      <th>Item_Outlet_Sales</th>\n",
       "      <th>Outlet_Size2</th>\n",
       "    </tr>\n",
       "  </thead>\n",
       "  <tbody>\n",
       "    <tr>\n",
       "      <th>0</th>\n",
       "      <td>FDA15</td>\n",
       "      <td>9.300</td>\n",
       "      <td>0</td>\n",
       "      <td>0.016047</td>\n",
       "      <td>Dairy</td>\n",
       "      <td>249.8092</td>\n",
       "      <td>OUT049</td>\n",
       "      <td>1999</td>\n",
       "      <td>Medium</td>\n",
       "      <td>0</td>\n",
       "      <td>1</td>\n",
       "      <td>3735.1380</td>\n",
       "      <td>1</td>\n",
       "    </tr>\n",
       "    <tr>\n",
       "      <th>1</th>\n",
       "      <td>DRC01</td>\n",
       "      <td>5.920</td>\n",
       "      <td>1</td>\n",
       "      <td>0.019278</td>\n",
       "      <td>Soft Drinks</td>\n",
       "      <td>48.2692</td>\n",
       "      <td>OUT018</td>\n",
       "      <td>2009</td>\n",
       "      <td>Medium</td>\n",
       "      <td>2</td>\n",
       "      <td>2</td>\n",
       "      <td>443.4228</td>\n",
       "      <td>1</td>\n",
       "    </tr>\n",
       "    <tr>\n",
       "      <th>2</th>\n",
       "      <td>FDN15</td>\n",
       "      <td>17.500</td>\n",
       "      <td>0</td>\n",
       "      <td>0.016760</td>\n",
       "      <td>Meat</td>\n",
       "      <td>141.6180</td>\n",
       "      <td>OUT049</td>\n",
       "      <td>1999</td>\n",
       "      <td>Medium</td>\n",
       "      <td>0</td>\n",
       "      <td>1</td>\n",
       "      <td>2097.2700</td>\n",
       "      <td>1</td>\n",
       "    </tr>\n",
       "    <tr>\n",
       "      <th>4</th>\n",
       "      <td>NCD19</td>\n",
       "      <td>8.930</td>\n",
       "      <td>0</td>\n",
       "      <td>0.000000</td>\n",
       "      <td>Household</td>\n",
       "      <td>53.8614</td>\n",
       "      <td>OUT013</td>\n",
       "      <td>1987</td>\n",
       "      <td>High</td>\n",
       "      <td>2</td>\n",
       "      <td>1</td>\n",
       "      <td>994.7052</td>\n",
       "      <td>2</td>\n",
       "    </tr>\n",
       "    <tr>\n",
       "      <th>5</th>\n",
       "      <td>FDP36</td>\n",
       "      <td>10.395</td>\n",
       "      <td>1</td>\n",
       "      <td>0.000000</td>\n",
       "      <td>Baking Goods</td>\n",
       "      <td>51.4008</td>\n",
       "      <td>OUT018</td>\n",
       "      <td>2009</td>\n",
       "      <td>Medium</td>\n",
       "      <td>2</td>\n",
       "      <td>2</td>\n",
       "      <td>556.6088</td>\n",
       "      <td>1</td>\n",
       "    </tr>\n",
       "    <tr>\n",
       "      <th>...</th>\n",
       "      <td>...</td>\n",
       "      <td>...</td>\n",
       "      <td>...</td>\n",
       "      <td>...</td>\n",
       "      <td>...</td>\n",
       "      <td>...</td>\n",
       "      <td>...</td>\n",
       "      <td>...</td>\n",
       "      <td>...</td>\n",
       "      <td>...</td>\n",
       "      <td>...</td>\n",
       "      <td>...</td>\n",
       "      <td>...</td>\n",
       "    </tr>\n",
       "    <tr>\n",
       "      <th>8517</th>\n",
       "      <td>FDF53</td>\n",
       "      <td>20.750</td>\n",
       "      <td>1</td>\n",
       "      <td>0.083607</td>\n",
       "      <td>Frozen Foods</td>\n",
       "      <td>178.8318</td>\n",
       "      <td>OUT046</td>\n",
       "      <td>1997</td>\n",
       "      <td>Small</td>\n",
       "      <td>0</td>\n",
       "      <td>1</td>\n",
       "      <td>3608.6360</td>\n",
       "      <td>0</td>\n",
       "    </tr>\n",
       "    <tr>\n",
       "      <th>8518</th>\n",
       "      <td>FDF22</td>\n",
       "      <td>6.865</td>\n",
       "      <td>0</td>\n",
       "      <td>0.056783</td>\n",
       "      <td>Snack Foods</td>\n",
       "      <td>214.5218</td>\n",
       "      <td>OUT013</td>\n",
       "      <td>1987</td>\n",
       "      <td>High</td>\n",
       "      <td>2</td>\n",
       "      <td>1</td>\n",
       "      <td>2778.3834</td>\n",
       "      <td>2</td>\n",
       "    </tr>\n",
       "    <tr>\n",
       "      <th>8520</th>\n",
       "      <td>NCJ29</td>\n",
       "      <td>10.600</td>\n",
       "      <td>0</td>\n",
       "      <td>0.035186</td>\n",
       "      <td>Health and Hygiene</td>\n",
       "      <td>85.1224</td>\n",
       "      <td>OUT035</td>\n",
       "      <td>2004</td>\n",
       "      <td>Small</td>\n",
       "      <td>1</td>\n",
       "      <td>1</td>\n",
       "      <td>1193.1136</td>\n",
       "      <td>0</td>\n",
       "    </tr>\n",
       "    <tr>\n",
       "      <th>8521</th>\n",
       "      <td>FDN46</td>\n",
       "      <td>7.210</td>\n",
       "      <td>1</td>\n",
       "      <td>0.145221</td>\n",
       "      <td>Snack Foods</td>\n",
       "      <td>103.1332</td>\n",
       "      <td>OUT018</td>\n",
       "      <td>2009</td>\n",
       "      <td>Medium</td>\n",
       "      <td>2</td>\n",
       "      <td>2</td>\n",
       "      <td>1845.5976</td>\n",
       "      <td>1</td>\n",
       "    </tr>\n",
       "    <tr>\n",
       "      <th>8522</th>\n",
       "      <td>DRG01</td>\n",
       "      <td>14.800</td>\n",
       "      <td>0</td>\n",
       "      <td>0.044878</td>\n",
       "      <td>Soft Drinks</td>\n",
       "      <td>75.4670</td>\n",
       "      <td>OUT046</td>\n",
       "      <td>1997</td>\n",
       "      <td>Small</td>\n",
       "      <td>0</td>\n",
       "      <td>1</td>\n",
       "      <td>765.6700</td>\n",
       "      <td>0</td>\n",
       "    </tr>\n",
       "  </tbody>\n",
       "</table>\n",
       "<p>6109 rows × 13 columns</p>\n",
       "</div>"
      ],
      "text/plain": [
       "     Item_Identifier  Item_Weight  Item_Fat_Content  Item_Visibility  \\\n",
       "0              FDA15        9.300                 0         0.016047   \n",
       "1              DRC01        5.920                 1         0.019278   \n",
       "2              FDN15       17.500                 0         0.016760   \n",
       "4              NCD19        8.930                 0         0.000000   \n",
       "5              FDP36       10.395                 1         0.000000   \n",
       "...              ...          ...               ...              ...   \n",
       "8517           FDF53       20.750                 1         0.083607   \n",
       "8518           FDF22        6.865                 0         0.056783   \n",
       "8520           NCJ29       10.600                 0         0.035186   \n",
       "8521           FDN46        7.210                 1         0.145221   \n",
       "8522           DRG01       14.800                 0         0.044878   \n",
       "\n",
       "               Item_Type  Item_MRP Outlet_Identifier  \\\n",
       "0                  Dairy  249.8092            OUT049   \n",
       "1            Soft Drinks   48.2692            OUT018   \n",
       "2                   Meat  141.6180            OUT049   \n",
       "4              Household   53.8614            OUT013   \n",
       "5           Baking Goods   51.4008            OUT018   \n",
       "...                  ...       ...               ...   \n",
       "8517        Frozen Foods  178.8318            OUT046   \n",
       "8518         Snack Foods  214.5218            OUT013   \n",
       "8520  Health and Hygiene   85.1224            OUT035   \n",
       "8521         Snack Foods  103.1332            OUT018   \n",
       "8522         Soft Drinks   75.4670            OUT046   \n",
       "\n",
       "      Outlet_Establishment_Year Outlet_Size  Outlet_Location_Type  \\\n",
       "0                          1999      Medium                     0   \n",
       "1                          2009      Medium                     2   \n",
       "2                          1999      Medium                     0   \n",
       "4                          1987        High                     2   \n",
       "5                          2009      Medium                     2   \n",
       "...                         ...         ...                   ...   \n",
       "8517                       1997       Small                     0   \n",
       "8518                       1987        High                     2   \n",
       "8520                       2004       Small                     1   \n",
       "8521                       2009      Medium                     2   \n",
       "8522                       1997       Small                     0   \n",
       "\n",
       "      Outlet_Type  Item_Outlet_Sales  Outlet_Size2  \n",
       "0               1          3735.1380             1  \n",
       "1               2           443.4228             1  \n",
       "2               1          2097.2700             1  \n",
       "4               1           994.7052             2  \n",
       "5               2           556.6088             1  \n",
       "...           ...                ...           ...  \n",
       "8517            1          3608.6360             0  \n",
       "8518            1          2778.3834             2  \n",
       "8520            1          1193.1136             0  \n",
       "8521            2          1845.5976             1  \n",
       "8522            1           765.6700             0  \n",
       "\n",
       "[6109 rows x 13 columns]"
      ]
     },
     "execution_count": 747,
     "metadata": {},
     "output_type": "execute_result"
    }
   ],
   "source": [
    "dfsinnulos"
   ]
  },
  {
   "cell_type": "markdown",
   "id": "9975763a",
   "metadata": {},
   "source": [
    "### ¿Hay algo que puedas hacer para mejorar el modelo?\n",
    "Los modelos tienen precision baja, lo ideal seria robustecer el modelo el modelo con mayor cantidad de datos que sean mas representativ y mantiendo las clases de cada columna. Tambien se puede ver nuevo modelos que permite representar mejor forma el universo de datos"
   ]
  },
  {
   "cell_type": "markdown",
   "id": "febe029c",
   "metadata": {},
   "source": [
    "### ¿Qué características están más asociadas con la predicción de ventas mayores?"
   ]
  },
  {
   "cell_type": "code",
   "execution_count": 748,
   "id": "cbbcda5e",
   "metadata": {},
   "outputs": [
    {
     "data": {
      "text/html": [
       "<div>\n",
       "<style scoped>\n",
       "    .dataframe tbody tr th:only-of-type {\n",
       "        vertical-align: middle;\n",
       "    }\n",
       "\n",
       "    .dataframe tbody tr th {\n",
       "        vertical-align: top;\n",
       "    }\n",
       "\n",
       "    .dataframe thead th {\n",
       "        text-align: right;\n",
       "    }\n",
       "</style>\n",
       "<table border=\"1\" class=\"dataframe\">\n",
       "  <thead>\n",
       "    <tr style=\"text-align: right;\">\n",
       "      <th></th>\n",
       "      <th>Item_Outlet_Sales</th>\n",
       "    </tr>\n",
       "  </thead>\n",
       "  <tbody>\n",
       "    <tr>\n",
       "      <th>Item_MRP</th>\n",
       "      <td>0.567803</td>\n",
       "    </tr>\n",
       "    <tr>\n",
       "      <th>Outlet_Type</th>\n",
       "      <td>0.392787</td>\n",
       "    </tr>\n",
       "    <tr>\n",
       "      <th>Outlet_Location_Type</th>\n",
       "      <td>0.089003</td>\n",
       "    </tr>\n",
       "    <tr>\n",
       "      <th>Item_Fat_Content</th>\n",
       "      <td>0.018974</td>\n",
       "    </tr>\n",
       "    <tr>\n",
       "      <th>Item_Weight</th>\n",
       "      <td>0.013168</td>\n",
       "    </tr>\n",
       "    <tr>\n",
       "      <th>Outlet_Size2</th>\n",
       "      <td>-0.040134</td>\n",
       "    </tr>\n",
       "    <tr>\n",
       "      <th>Outlet_Establishment_Year</th>\n",
       "      <td>-0.049083</td>\n",
       "    </tr>\n",
       "    <tr>\n",
       "      <th>Item_Visibility</th>\n",
       "      <td>-0.128297</td>\n",
       "    </tr>\n",
       "  </tbody>\n",
       "</table>\n",
       "</div>"
      ],
      "text/plain": [
       "                           Item_Outlet_Sales\n",
       "Item_MRP                            0.567803\n",
       "Outlet_Type                         0.392787\n",
       "Outlet_Location_Type                0.089003\n",
       "Item_Fat_Content                    0.018974\n",
       "Item_Weight                         0.013168\n",
       "Outlet_Size2                       -0.040134\n",
       "Outlet_Establishment_Year          -0.049083\n",
       "Item_Visibility                    -0.128297"
      ]
     },
     "execution_count": 748,
     "metadata": {},
     "output_type": "execute_result"
    }
   ],
   "source": [
    "pd.DataFrame(df.corr()[\"Item_Outlet_Sales\"]).sort_values(\"Item_Outlet_Sales\", ascending=False).iloc[1:,:]"
   ]
  },
  {
   "cell_type": "markdown",
   "id": "ad6fba44",
   "metadata": {},
   "source": [
    "**Segun la correlacion, a mayor venta esta asociada la columna MRP, que es el precio maximo del item y el tipo de supermercado, en cambio la visibilidad no tiene mucho peso en las ventas, incluso son inversamente proporcionales**"
   ]
  },
  {
   "cell_type": "code",
   "execution_count": 787,
   "id": "e97172cb",
   "metadata": {
    "scrolled": true
   },
   "outputs": [
    {
     "name": "stderr",
     "output_type": "stream",
     "text": [
      "C:\\Users\\crist\\AppData\\Local\\Temp/ipykernel_11412/10714947.py:4: SettingWithCopyWarning: \n",
      "A value is trying to be set on a copy of a slice from a DataFrame.\n",
      "Try using .loc[row_indexer,col_indexer] = value instead\n",
      "\n",
      "See the caveats in the documentation: https://pandas.pydata.org/pandas-docs/stable/user_guide/indexing.html#returning-a-view-versus-a-copy\n",
      "  dfsinnulos[\"Outlet_Location_Type\"] = dfsinnulos[\"Outlet_Location_Type\"].map(locacion)\n",
      "C:\\Users\\crist\\AppData\\Local\\Temp/ipykernel_11412/10714947.py:8: SettingWithCopyWarning: \n",
      "A value is trying to be set on a copy of a slice from a DataFrame.\n",
      "Try using .loc[row_indexer,col_indexer] = value instead\n",
      "\n",
      "See the caveats in the documentation: https://pandas.pydata.org/pandas-docs/stable/user_guide/indexing.html#returning-a-view-versus-a-copy\n",
      "  dfsinnulos['Item_Fat_Content'] = dfsinnulos['Item_Fat_Content'].map(grasa)\n",
      "C:\\Users\\crist\\AppData\\Local\\Temp/ipykernel_11412/10714947.py:14: SettingWithCopyWarning: \n",
      "A value is trying to be set on a copy of a slice from a DataFrame.\n",
      "Try using .loc[row_indexer,col_indexer] = value instead\n",
      "\n",
      "See the caveats in the documentation: https://pandas.pydata.org/pandas-docs/stable/user_guide/indexing.html#returning-a-view-versus-a-copy\n",
      "  dfsinnulos[\"Outlet_Type\"] = dfsinnulos[\"Outlet_Type\"].map(tipo)\n",
      "C:\\Users\\crist\\AppData\\Local\\Temp/ipykernel_11412/10714947.py:19: SettingWithCopyWarning: \n",
      "A value is trying to be set on a copy of a slice from a DataFrame.\n",
      "Try using .loc[row_indexer,col_indexer] = value instead\n",
      "\n",
      "See the caveats in the documentation: https://pandas.pydata.org/pandas-docs/stable/user_guide/indexing.html#returning-a-view-versus-a-copy\n",
      "  dfsinnulos[\"Outlet_Size2\"] = dfsinnulos[\"Outlet_Size\"].map(tipo)\n"
     ]
    }
   ],
   "source": [
    "locacion = { 'Tier 1' : 0, \n",
    "            'Tier 2' : 1,\n",
    "           'Tier 3':2}\n",
    "dfsinnulos[\"Outlet_Location_Type\"] = dfsinnulos[\"Outlet_Location_Type\"].map(locacion)\n",
    "\n",
    "grasa = { 'Low Fat' : 0, \n",
    "          'Regular' : 1}\n",
    "dfsinnulos['Item_Fat_Content'] = dfsinnulos['Item_Fat_Content'].map(grasa)\n",
    "\n",
    "tipo = { 'Grocery Store' : 0, \n",
    "            'Supermarket Type1' : 1,\n",
    "           'Supermarket Type2':2,\n",
    "           'Supermarket Type3':4}\n",
    "dfsinnulos[\"Outlet_Type\"] = dfsinnulos[\"Outlet_Type\"].map(tipo)\n",
    "\n",
    "tipo = { 'Small' : 0, \n",
    "            'Medium' : 1,\n",
    "           'High':2}\n",
    "dfsinnulos[\"Outlet_Size2\"] = dfsinnulos[\"Outlet_Size\"].map(tipo)\n"
   ]
  },
  {
   "cell_type": "code",
   "execution_count": 789,
   "id": "8c858dea",
   "metadata": {},
   "outputs": [
    {
     "data": {
      "text/plain": [
       "Item_Identifier              0\n",
       "Item_Weight                  0\n",
       "Item_Fat_Content             0\n",
       "Item_Visibility              0\n",
       "Item_Type                    0\n",
       "Item_MRP                     0\n",
       "Outlet_Identifier            0\n",
       "Outlet_Establishment_Year    0\n",
       "Outlet_Size                  0\n",
       "Outlet_Location_Type         0\n",
       "Outlet_Type                  0\n",
       "Item_Outlet_Sales            0\n",
       "Outlet_Size2                 0\n",
       "dtype: int64"
      ]
     },
     "execution_count": 789,
     "metadata": {},
     "output_type": "execute_result"
    }
   ],
   "source": [
    "dfsinnulos.isnull().sum()"
   ]
  },
  {
   "cell_type": "code",
   "execution_count": 790,
   "id": "623f34dd",
   "metadata": {},
   "outputs": [],
   "source": [
    "x=dfsinnulos[dfsinnulos.columns.difference([\"Item_Outlet_Sales\",'Item_Identifier','Item_Type','Outlet_Identifier','Outlet_Size'])].values\n",
    "y=dfsinnulos[\"Item_Outlet_Sales\"].values"
   ]
  },
  {
   "cell_type": "code",
   "execution_count": 791,
   "id": "456a17f4",
   "metadata": {
    "scrolled": true
   },
   "outputs": [
    {
     "name": "stdout",
     "output_type": "stream",
     "text": [
      "Accuracy 0.4712698495098525\n",
      "Accuracy 0.4449165608899005\n"
     ]
    }
   ],
   "source": [
    "X_train, X_val, y_train, y_val = train_test_split(x, y,test_size=0.3)\n",
    "X_val, X_test, y_val, y_test = train_test_split(X_val, y_val,test_size=0.5)\n",
    "\n",
    "scaler = StandardScaler()\n",
    "scaler.fit(X_train)\n",
    "X_train = scaler.transform(X_train)\n",
    "X_test = scaler.transform(X_test)\n",
    "X_val=scaler.transform(X_val)\n",
    "\n",
    "reg=LinearRegression()\n",
    "reg.fit(X_train, y_train)\n",
    "print('Accuracy', reg.score(X_val, y_val))\n",
    "\n",
    "knn = KNeighborsRegressor(n_neighbors=3)\n",
    "knn.fit(X_train, y_train) \n",
    "print('Accuracy', knn.score(X_val, y_val))\n"
   ]
  },
  {
   "cell_type": "code",
   "execution_count": 793,
   "id": "8195c3c9",
   "metadata": {},
   "outputs": [
    {
     "name": "stdout",
     "output_type": "stream",
     "text": [
      "{'copy_X': True, 'fit_intercept': True, 'normalize': True} 0.5003374276961298\n",
      "{'n_neighbors': 22} 0.5675798168552844\n"
     ]
    }
   ],
   "source": [
    "param_grid = [{'fit_intercept':[True,False],\n",
    "               'normalize':[True,False],\n",
    "               'copy_X':[True,False]\n",
    "              }]\n",
    "\n",
    "reg = LinearRegression()\n",
    "grid_search = GridSearchCV(reg, param_grid, cv=5,\n",
    "                          return_train_score=True)\n",
    "\n",
    "grid_search.fit(X_train, y_train)\n",
    "\n",
    "cvres1 = grid_search.best_params_\n",
    "cvres2 = grid_search.best_score_\n",
    "print(cvres1,cvres2)\n",
    "\n",
    "param_grid = [{'n_neighbors':list(np.arange(1,50))\n",
    "              }]\n",
    "\n",
    "reg = KNeighborsRegressor()\n",
    "\n",
    "grid_search = GridSearchCV(reg, param_grid, cv=5,\n",
    "                          return_train_score=True)\n",
    "\n",
    "grid_search.fit(X_train, y_train)\n",
    "\n",
    "cvres1 = grid_search.best_params_\n",
    "cvres2 = grid_search.best_score_\n",
    "print(cvres1,cvres2)"
   ]
  },
  {
   "cell_type": "code",
   "execution_count": 794,
   "id": "93bfdcf8",
   "metadata": {},
   "outputs": [
    {
     "name": "stdout",
     "output_type": "stream",
     "text": [
      "Accuracy 0.4712698495098525\n",
      "0.498569491230467\n",
      "Accuracy 0.5282646167844225\n",
      "0.5586963325779513\n"
     ]
    }
   ],
   "source": [
    "reg = LinearRegression(copy_X=True, fit_intercept= True, normalize= False)\n",
    "reg.fit(X_train, y_train)\n",
    "print('Accuracy', reg.score(X_val, y_val))\n",
    "validacion_reg=reg.predict(X_test)\n",
    "print(metrics.r2_score(y_test, validacion_reg))\n",
    "\n",
    "knn = KNeighborsRegressor(n_neighbors=22)\n",
    "knn.fit(X_train, y_train)\n",
    "print('Accuracy', knn.score(X_val, y_val))\n",
    "validacion_reg=knn.predict(X_test)\n",
    "print(metrics.r2_score(y_test, validacion_reg))"
   ]
  },
  {
   "cell_type": "code",
   "execution_count": null,
   "id": "0bc4574d",
   "metadata": {},
   "outputs": [],
   "source": []
  }
 ],
 "metadata": {
  "kernelspec": {
   "display_name": "Python 3 (ipykernel)",
   "language": "python",
   "name": "python3"
  },
  "language_info": {
   "codemirror_mode": {
    "name": "ipython",
    "version": 3
   },
   "file_extension": ".py",
   "mimetype": "text/x-python",
   "name": "python",
   "nbconvert_exporter": "python",
   "pygments_lexer": "ipython3",
   "version": "3.9.7"
  }
 },
 "nbformat": 4,
 "nbformat_minor": 5
}
